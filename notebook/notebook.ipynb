{
 "cells": [
  {
   "cell_type": "markdown",
   "id": "46d04287",
   "metadata": {},
   "source": [
    "## Application of deep learning approach to classify SARS-CoV-2 variants\n",
    "\n",
    "\n",
    "### Coding Notebook\n",
    "### Install and load the following libraries and packages"
   ]
  },
  {
   "cell_type": "code",
   "execution_count": 1,
   "id": "db6cfc93",
   "metadata": {},
   "outputs": [
    {
     "name": "stderr",
     "output_type": "stream",
     "text": [
      "2022-04-17 11:58:22.467064: W tensorflow/stream_executor/platform/default/dso_loader.cc:64] Could not load dynamic library 'libcudart.so.11.0'; dlerror: libcudart.so.11.0: cannot open shared object file: No such file or directory\n",
      "2022-04-17 11:58:22.467121: I tensorflow/stream_executor/cuda/cudart_stub.cc:29] Ignore above cudart dlerror if you do not have a GPU set up on your machine.\n"
     ]
    }
   ],
   "source": [
    "import pandas as pd\n",
    "import numpy as np\n",
    "import os\n",
    "import joblib\n",
    "from keras import utils as np_utils\n",
    "from sklearn.model_selection import train_test_split, GridSearchCV\n",
    "from keras.models import Sequential\n",
    "from keras.layers import Dense, Dropout, Flatten, Conv1D, MaxPooling1D, MaxPooling2D, Conv2D, LSTM, GRU, Bidirectional\n",
    "from keras import regularizers\n",
    "from keras.callbacks import EarlyStopping, ModelCheckpoint\n",
    "from keras.wrappers.scikit_learn import KerasClassifier\n",
    "import keras\n",
    "from keras import utils as np_utils\n",
    "from numpy import array\n",
    "import seaborn as sns\n",
    "from sklearn.metrics import confusion_matrix"
   ]
  },
  {
   "cell_type": "markdown",
   "id": "1e4772bc",
   "metadata": {},
   "source": [
    "### Loading datasets and preprocessing\n",
    "\n",
    "dataset_1 - a small dataset of 86 sequences for trial runs <br>\n",
    "dataset_2 - sequence dataset with over 26000 used for training and validating the model"
   ]
  },
  {
   "cell_type": "code",
   "execution_count": 65,
   "id": "b728b384",
   "metadata": {},
   "outputs": [],
   "source": [
    "dataset_1 = pd.read_table(\"ml_sarscov2/data/variants.aln4.fas.txt\", usecols=[1,2] ) #initial dataset with 86 sequneces\n",
    "dataset_2 = 'ml_sarscov2/data/sequences.aln.fas' # huge dataset with 26k sequences"
   ]
  },
  {
   "cell_type": "code",
   "execution_count": 66,
   "id": "10da2a9c",
   "metadata": {},
   "outputs": [],
   "source": [
    "#Converting sequence data into data frame\n",
    "#Ensure the fasta sequences are in one-liner and not blocks\n",
    "#The sequence file had been pre-processed to include varinat names in the sequnce headers. Check file in fasta format.\n",
    "\n",
    "inputfile = dataset_2\n",
    "\n",
    "lines = []\n",
    "header = []\n",
    "with open (inputfile, 'r') as fasta_file:\n",
    "    \n",
    "    for line in fasta_file:\n",
    "        if line.startswith(\">\"):\n",
    "            #extract fasta headers\n",
    "            lines.append(line.replace('\\w', '').replace(\">\", \"\").replace(\"\\n\", ''))\n",
    "            \n",
    "        next\n",
    "            #extract sequence lines\n",
    "        if not line.startswith(\">\"):\n",
    "            header.append(line.replace(\"\\n\",''))\n",
    "\n",
    "#Create dictionary of header and sequences and create a datafram\n",
    "data = {lines[i]:header[i] for i in range(len(header))}\n",
    "data = pd.DataFrame(list(data.items()),columns = ['Seq_ID','sequence']) \n",
    "\n",
    "\n",
    "data[\"sequence\"] = data[\"sequence\"].str.upper() #ensure the sequence is un uppercase. Important for encoding\n",
    "\n",
    "data[\"Variant_Id\"] = data[\"Seq_ID\"].apply(lambda i: i.split('/')[0]) #extracting variant names from sequnce file\n",
    "\n",
    "data = data.drop(\"Seq_ID\", axis=1)\n",
    "\n",
    "dataset_1[\"sequence\"] = dataset_1['sequence'].str.upper() \n",
    "\n",
    "dataset_2 = data\n",
    "\n",
    "dataset = [dataset_1, dataset_2]"
   ]
  },
  {
   "cell_type": "markdown",
   "id": "b394b174",
   "metadata": {},
   "source": [
    "Plot number of sequences for each variant"
   ]
  },
  {
   "cell_type": "code",
   "execution_count": 77,
   "id": "a445509e",
   "metadata": {},
   "outputs": [
    {
     "data": {
      "text/plain": [
       "<AxesSubplot:title={'center':'Variant data'}>"
      ]
     },
     "execution_count": 77,
     "metadata": {},
     "output_type": "execute_result"
    },
    {
     "data": {
      "image/png": "[encoded data removed]",
      "text/plain": [
       "<Figure size 432x288 with 1 Axes>"
      ]
     },
     "metadata": {
      "needs_background": "light"
     },
     "output_type": "display_data"
    }
   ],
   "source": [
    "dataset_2[\"Variant_Id\"].value_counts().plot(kind=\"bar\", \n",
    "                                            title = \"Variant data\", \n",
    "                                            fontsize=18,\n",
    "                                           color = \"blue\")"
   ]
  },
  {
   "cell_type": "markdown",
   "id": "8b435318",
   "metadata": {},
   "source": [
    "### Assign variant name to numerical form\n",
    "\n",
    "gamma - 0 \\\n",
    "delta - 1 \\\n",
    "beta - 2 \\\n",
    "alpha - 3 \\\n",
    "omicron - 4"
   ]
  },
  {
   "cell_type": "code",
   "execution_count": 4,
   "id": "8ab70041",
   "metadata": {},
   "outputs": [
    {
     "data": {
      "text/html": [
       "<div>\n",
       "<style scoped>\n",
       "    .dataframe tbody tr th:only-of-type {\n",
       "        vertical-align: middle;\n",
       "    }\n",
       "\n",
       "    .dataframe tbody tr th {\n",
       "        vertical-align: top;\n",
       "    }\n",
       "\n",
       "    .dataframe thead th {\n",
       "        text-align: right;\n",
       "    }\n",
       "</style>\n",
       "<table border=\"1\" class=\"dataframe\">\n",
       "  <thead>\n",
       "    <tr style=\"text-align: right;\">\n",
       "      <th></th>\n",
       "      <th>sequence</th>\n",
       "      <th>Variant_Id</th>\n",
       "    </tr>\n",
       "  </thead>\n",
       "  <tbody>\n",
       "    <tr>\n",
       "      <th>0</th>\n",
       "      <td>ATGTTTGTTTTTCTTGTTTTATTGCCACTAGTCTCTAGTCAGTGTG...</td>\n",
       "      <td>0</td>\n",
       "    </tr>\n",
       "    <tr>\n",
       "      <th>1</th>\n",
       "      <td>ATGTTTGTTTTTCTTGTTTTATTGCCACTAGTCTCTAGTCAGTGTG...</td>\n",
       "      <td>0</td>\n",
       "    </tr>\n",
       "    <tr>\n",
       "      <th>2</th>\n",
       "      <td>ATGTTTGTTTTTCTTGTTTTATTGCCACTAGTCTCTAGTCAGTGTG...</td>\n",
       "      <td>0</td>\n",
       "    </tr>\n",
       "    <tr>\n",
       "      <th>3</th>\n",
       "      <td>ATGTTTGTTTTTCTTGTTTTATTGCCACTAGTCTCTAGTCAGTGTG...</td>\n",
       "      <td>0</td>\n",
       "    </tr>\n",
       "    <tr>\n",
       "      <th>4</th>\n",
       "      <td>ATGTTTGTTTTTCTTGTTTTATTGCCACTAGTCTCTAGTCAGTGTG...</td>\n",
       "      <td>0</td>\n",
       "    </tr>\n",
       "  </tbody>\n",
       "</table>\n",
       "</div>"
      ],
      "text/plain": [
       "                                            sequence  Variant_Id\n",
       "0  ATGTTTGTTTTTCTTGTTTTATTGCCACTAGTCTCTAGTCAGTGTG...           0\n",
       "1  ATGTTTGTTTTTCTTGTTTTATTGCCACTAGTCTCTAGTCAGTGTG...           0\n",
       "2  ATGTTTGTTTTTCTTGTTTTATTGCCACTAGTCTCTAGTCAGTGTG...           0\n",
       "3  ATGTTTGTTTTTCTTGTTTTATTGCCACTAGTCTCTAGTCAGTGTG...           0\n",
       "4  ATGTTTGTTTTTCTTGTTTTATTGCCACTAGTCTCTAGTCAGTGTG...           0"
      ]
     },
     "execution_count": 4,
     "metadata": {},
     "output_type": "execute_result"
    }
   ],
   "source": [
    "def variant_annotation(dataset):\n",
    "    variant = {\"gamma\" : 0, \"delta\" : 1, \"beta\" : 2, \"alpha\" : 3, \"omicron\":4}\n",
    "\n",
    "    for seq_data in dataset:\n",
    "        seq_data[\"Variant_Id\"] = seq_data[\"Variant_Id\"].map(variant)\n",
    "    return dataset\n",
    "\n",
    "variant_annotation(dataset)\n",
    "\n",
    "dataset_1.head()"
   ]
  },
  {
   "cell_type": "code",
   "execution_count": 5,
   "id": "2d0596e7",
   "metadata": {},
   "outputs": [],
   "source": [
    "def encode_seq(seq_data):\n",
    "    \"\"\"\n",
    "    Function to convert nucleotides to binary form and hot-encoded\n",
    "\n",
    "    Arguments :\n",
    "    seq_data = sequence dataframe with \"sequence\" and \"Variant_ID\" columns\n",
    "\n",
    "    char : total number of unique characters in the whole dataset. This is used to \n",
    "    bin : array list of zeros corresponding to the number of characters\n",
    "\n",
    "    \"\"\"\n",
    "\n",
    "    ntds = []\n",
    "    for i in seq_data['sequence']:\n",
    "        for seq in i:\n",
    "            ntd = seq.strip()\n",
    "            ntds.append(ntd.upper())\n",
    "        \n",
    "    char = list(set(ntds))\n",
    "    \n",
    "    bin = [0] * len(char)\n",
    "    bin0  = [0] * len(char)\n",
    "    bin1  = [0] * len(char)\n",
    "    bin2  = [0] * len(char)\n",
    "    bin3  = [0] * len(char)\n",
    "    \n",
    "    #Create a dictionary of arrays to the seqeunce characters\n",
    "    Encode = {}\n",
    "\n",
    "    for i in char:\n",
    "        if i == 'A':\n",
    "            bin0[0] = 1\n",
    "            Encode[i] = bin0\n",
    "        elif i == 'C':\n",
    "            bin1[1] = 1\n",
    "            Encode[i] = bin1\n",
    "        elif i == 'G':\n",
    "            bin2[2] = 1\n",
    "            Encode[i] = bin2\n",
    "        elif i == 'T':\n",
    "            bin3[3] = 1\n",
    "            Encode[i] = bin3\n",
    "        else:\n",
    "            Encode[i] = bin\n",
    "    \n",
    "      #convert the sequence characters to encoded form and append to the list\n",
    "\n",
    "    encoded_list = []\n",
    "\n",
    "    for seq in seq_data[\"sequence\"]:\n",
    "        encoded_list.append([Encode[x] for x in seq])\n",
    "\n",
    "    return encoded_list"
   ]
  },
  {
   "cell_type": "markdown",
   "id": "3e830bb8",
   "metadata": {},
   "source": [
    "### **Performing K-Merization**\n",
    "Sequences will be converted to k-mers (kmer of 4) form"
   ]
  },
  {
   "cell_type": "code",
   "execution_count": 45,
   "id": "bf23c48b",
   "metadata": {},
   "outputs": [],
   "source": [
    "#Get a copy of the dataset\n",
    "\n",
    "dataset_1_k = dataset_1.copy()\n",
    "dataset_2_k = dataset_2.copy()\n",
    "\n",
    "kmer_data = [dataset_1_k, dataset_2_k]"
   ]
  },
  {
   "cell_type": "markdown",
   "id": "c3d71176",
   "metadata": {},
   "source": [
    "#### Convert sequences to k-mers form"
   ]
  },
  {
   "cell_type": "code",
   "execution_count": 16,
   "id": "8cb9bf43",
   "metadata": {},
   "outputs": [],
   "source": [
    "def getKmers(sequence, size=4):\n",
    "    \"\"\"\"\n",
    "    function to convert sequence strings into k-mer words, default size = 4 (hexamer words)\n",
    "\n",
    "    Arguments:\n",
    "    sequence = sequnce set \n",
    "    size = size of kmers \n",
    "    \"\"\"\n",
    "    return [sequence[x:x+size].upper() for x in range(len(sequence) - size + 1)]\n",
    "\n",
    "for seq_data in kmer_data:\n",
    "    seq_data['sequence'] = seq_data.apply(lambda x: getKmers(x['sequence']), axis=1)"
   ]
  },
  {
   "cell_type": "markdown",
   "id": "ebbf9cad",
   "metadata": {},
   "source": [
    "#### Encode the sequence data"
   ]
  },
  {
   "cell_type": "code",
   "execution_count": 79,
   "id": "b8827f41",
   "metadata": {},
   "outputs": [
    {
     "data": {
      "text/plain": [
       "(26037,)"
      ]
     },
     "execution_count": 79,
     "metadata": {},
     "output_type": "execute_result"
    }
   ],
   "source": [
    "#call function to encode the sequences and convert to array form\n",
    "encoded = encode_seq(dataset_2) \n",
    "X_mine_data_kmer = np.array(encoded)\n",
    "\n",
    "#set variable for \n",
    "y_mine_kmer_2 = dataset_2['Variant_Id']\n",
    "\n",
    "#y_mine_kmer_2.shape"
   ]
  },
  {
   "cell_type": "markdown",
   "id": "68edc165",
   "metadata": {},
   "source": [
    "### **Model Fitting**\n",
    "Split the dataset into training and validation (80:20) ration."
   ]
  },
  {
   "cell_type": "code",
   "execution_count": 30,
   "id": "fcbce45c",
   "metadata": {},
   "outputs": [],
   "source": [
    "#Split dataset into training and validation\n",
    "X_train, X_test, y_train, y_test = train_test_split(X_mine_data_kmer_2, y_mine_kmer_2, random_state = 42, stratify = y_mine_kmer_2)\n",
    "\n",
    "#have the data in tensor-readable form. I also don't know what that means.\n",
    "y_train = keras.utils.np_utils.to_categorical(y_train)\n",
    "y_test = keras.utils.np_utils.to_categorical(y_test)"
   ]
  },
  {
   "cell_type": "markdown",
   "id": "04c8103c",
   "metadata": {},
   "source": [
    "Set the model "
   ]
  },
  {
   "cell_type": "code",
   "execution_count": 31,
   "id": "93dea639",
   "metadata": {},
   "outputs": [
    {
     "name": "stdout",
     "output_type": "stream",
     "text": [
      "Model: \"sequential_2\"\n",
      "_________________________________________________________________\n",
      " Layer (type)                Output Shape              Param #   \n",
      "=================================================================\n",
      " conv1d_8 (Conv1D)           (None, 3869, 54)          4266      \n",
      "                                                                 \n",
      " max_pooling1d_8 (MaxPooling  (None, 773, 54)          0         \n",
      " 1D)                                                             \n",
      "                                                                 \n",
      " dropout_6 (Dropout)         (None, 773, 54)           0         \n",
      "                                                                 \n",
      " conv1d_9 (Conv1D)           (None, 773, 27)           4401      \n",
      "                                                                 \n",
      " max_pooling1d_9 (MaxPooling  (None, 257, 27)          0         \n",
      " 1D)                                                             \n",
      "                                                                 \n",
      " conv1d_10 (Conv1D)          (None, 257, 14)           770       \n",
      "                                                                 \n",
      " max_pooling1d_10 (MaxPoolin  (None, 85, 14)           0         \n",
      " g1D)                                                            \n",
      "                                                                 \n",
      " dropout_7 (Dropout)         (None, 85, 14)            0         \n",
      "                                                                 \n",
      " conv1d_11 (Conv1D)          (None, 85, 7)             203       \n",
      "                                                                 \n",
      " max_pooling1d_11 (MaxPoolin  (None, 28, 7)            0         \n",
      " g1D)                                                            \n",
      "                                                                 \n",
      " bidirectional_2 (Bidirectio  (None, 1024)             1600512   \n",
      " nal)                                                            \n",
      "                                                                 \n",
      " dropout_8 (Dropout)         (None, 1024)              0         \n",
      "                                                                 \n",
      " dense_12 (Dense)            (None, 256)               262400    \n",
      "                                                                 \n",
      " dense_13 (Dense)            (None, 128)               32896     \n",
      "                                                                 \n",
      " dense_14 (Dense)            (None, 64)                8256      \n",
      "                                                                 \n",
      " dense_15 (Dense)            (None, 32)                2080      \n",
      "                                                                 \n",
      " dense_16 (Dense)            (None, 16)                528       \n",
      "                                                                 \n",
      " dense_17 (Dense)            (None, 5)                 85        \n",
      "                                                                 \n",
      " flatten_2 (Flatten)         (None, 5)                 0         \n",
      "                                                                 \n",
      "=================================================================\n",
      "Total params: 1,916,397\n",
      "Trainable params: 1,916,397\n",
      "Non-trainable params: 0\n",
      "_________________________________________________________________\n"
     ]
    }
   ],
   "source": [
    "#Model parameter setting\n",
    "\n",
    "gru_model = Sequential()\n",
    "\n",
    "#Layer 1 - feature extraction\n",
    "#Performs dimension reduction\n",
    "\n",
    "gru_model.add(Conv1D(filters = 54, kernel_size = (6), activation = 'relu', input_shape = X_mine_data_kmer_2.shape[1:])) #ensure you change the shape\n",
    "gru_model.add(MaxPooling1D(pool_size= (5)))\n",
    "gru_model.add(Dropout(0.5))\n",
    "\n",
    "#layer2\n",
    "gru_model.add(Conv1D(filters = 27, kernel_size = (3), activation = 'relu', padding = 'same'))\n",
    "gru_model.add(MaxPooling1D(pool_size= (3)))\n",
    "\n",
    "\n",
    "#layer3\n",
    "gru_model.add(Conv1D(filters = 14, kernel_size = (2), activation = 'relu', padding = 'same'))\n",
    "gru_model.add(MaxPooling1D(pool_size= (3)))\n",
    "gru_model.add(Dropout(0.2))\n",
    "\n",
    "#layer4\n",
    "gru_model.add(Conv1D(filters = 7, kernel_size = (2), activation = 'relu', padding = 'same'))\n",
    "gru_model.add(MaxPooling1D(pool_size= (3)))\n",
    "gru_model.add(Bidirectional(GRU(512, activation = 'relu')))\n",
    "gru_model.add(Dropout(0.01))\n",
    "\n",
    "#Hidden dense layer\n",
    "gru_model.add(Dense(256, activation = 'relu'))\n",
    "gru_model.add(Dense(128, activation = 'relu'))\n",
    "gru_model.add(Dense(64, activation = 'relu'))\n",
    "gru_model.add(Dense(32, activation = 'relu'))\n",
    "gru_model.add(Dense(16, activation = 'relu', kernel_regularizer = regularizers.l2(0.01)))\n",
    "gru_model.add(Dense(5, activation = 'softmax'))\n",
    "\n",
    "\n",
    "#Flatten\n",
    "gru_model.add(Flatten()) #right place for flattening\n",
    "\n",
    "gru_model.compile(loss='binary_crossentropy',\n",
    "              optimizer='adam',\n",
    "              metrics=['accuracy'])\n",
    "\n",
    "gru_model.summary()"
   ]
  },
  {
   "cell_type": "code",
   "execution_count": 32,
   "id": "ab4eae27",
   "metadata": {
    "scrolled": true
   },
   "outputs": [
    {
     "name": "stdout",
     "output_type": "stream",
     "text": [
      "Epoch 1/30\n",
      "20/20 [==============================] - 29s 1s/step - loss: 0.6988 - accuracy: 0.2123 - val_loss: 0.6811 - val_accuracy: 0.2149\n",
      "Epoch 2/30\n",
      "20/20 [==============================] - 23s 1s/step - loss: 0.6668 - accuracy: 0.2132 - val_loss: 0.6515 - val_accuracy: 0.2117\n",
      "Epoch 3/30\n",
      "20/20 [==============================] - 23s 1s/step - loss: 0.6390 - accuracy: 0.2211 - val_loss: 0.6219 - val_accuracy: 0.4174\n",
      "Epoch 4/30\n",
      "20/20 [==============================] - 23s 1s/step - loss: 0.5804 - accuracy: 0.3029 - val_loss: 0.4576 - val_accuracy: 0.3656\n",
      "Epoch 5/30\n",
      "20/20 [==============================] - 23s 1s/step - loss: 0.4396 - accuracy: 0.5119 - val_loss: 0.3435 - val_accuracy: 0.5857\n",
      "Epoch 6/30\n",
      "20/20 [==============================] - 23s 1s/step - loss: 0.3492 - accuracy: 0.6091 - val_loss: 0.2863 - val_accuracy: 0.7788\n",
      "Epoch 7/30\n",
      "20/20 [==============================] - 23s 1s/step - loss: 0.2909 - accuracy: 0.7130 - val_loss: 0.2280 - val_accuracy: 0.7966\n",
      "Epoch 8/30\n",
      "20/20 [==============================] - 23s 1s/step - loss: 0.2235 - accuracy: 0.7710 - val_loss: 0.1952 - val_accuracy: 0.7969\n",
      "Epoch 9/30\n",
      "20/20 [==============================] - 23s 1s/step - loss: 0.2007 - accuracy: 0.7807 - val_loss: 0.1852 - val_accuracy: 0.7969\n",
      "Epoch 10/30\n",
      "20/20 [==============================] - 23s 1s/step - loss: 0.1858 - accuracy: 0.7924 - val_loss: 0.1771 - val_accuracy: 0.7971\n",
      "Epoch 11/30\n",
      "20/20 [==============================] - 23s 1s/step - loss: 0.1766 - accuracy: 0.7879 - val_loss: 0.1738 - val_accuracy: 0.7972\n",
      "Epoch 12/30\n",
      "20/20 [==============================] - 23s 1s/step - loss: 0.1691 - accuracy: 0.7946 - val_loss: 0.1618 - val_accuracy: 0.7813\n",
      "Epoch 13/30\n",
      "20/20 [==============================] - 23s 1s/step - loss: 0.1588 - accuracy: 0.8282 - val_loss: 0.1270 - val_accuracy: 0.9425\n",
      "Epoch 14/30\n",
      "20/20 [==============================] - 23s 1s/step - loss: 0.1230 - accuracy: 0.9240 - val_loss: 0.1414 - val_accuracy: 0.7777\n",
      "Epoch 15/30\n",
      "20/20 [==============================] - 23s 1s/step - loss: 0.1002 - accuracy: 0.9510 - val_loss: 0.0675 - val_accuracy: 0.9833\n",
      "Epoch 16/30\n",
      "20/20 [==============================] - 23s 1s/step - loss: 0.0631 - accuracy: 0.9809 - val_loss: 0.0570 - val_accuracy: 0.9843\n",
      "Epoch 17/30\n",
      "20/20 [==============================] - 23s 1s/step - loss: 0.0558 - accuracy: 0.9844 - val_loss: 0.0531 - val_accuracy: 0.9879\n",
      "Epoch 18/30\n",
      "20/20 [==============================] - 23s 1s/step - loss: 0.0507 - accuracy: 0.9862 - val_loss: 0.0490 - val_accuracy: 0.9879\n",
      "Epoch 19/30\n",
      "20/20 [==============================] - 23s 1s/step - loss: 0.0482 - accuracy: 0.9877 - val_loss: 0.0475 - val_accuracy: 0.9879\n",
      "Epoch 20/30\n",
      "20/20 [==============================] - 23s 1s/step - loss: 0.0448 - accuracy: 0.9884 - val_loss: 0.0447 - val_accuracy: 0.9880\n",
      "Epoch 21/30\n",
      "20/20 [==============================] - 23s 1s/step - loss: 0.0435 - accuracy: 0.9884 - val_loss: 0.0442 - val_accuracy: 0.9896\n",
      "Epoch 22/30\n",
      "20/20 [==============================] - 23s 1s/step - loss: 0.0408 - accuracy: 0.9895 - val_loss: 0.0396 - val_accuracy: 0.9896\n",
      "Epoch 23/30\n",
      "20/20 [==============================] - 23s 1s/step - loss: 0.0386 - accuracy: 0.9903 - val_loss: 0.0378 - val_accuracy: 0.9922\n",
      "Epoch 24/30\n",
      "20/20 [==============================] - 23s 1s/step - loss: 0.0374 - accuracy: 0.9904 - val_loss: 0.0365 - val_accuracy: 0.9917\n",
      "Epoch 25/30\n",
      "20/20 [==============================] - 23s 1s/step - loss: 0.0361 - accuracy: 0.9914 - val_loss: 0.0365 - val_accuracy: 0.9931\n",
      "Epoch 26/30\n",
      "20/20 [==============================] - 23s 1s/step - loss: 0.0354 - accuracy: 0.9910 - val_loss: 0.0346 - val_accuracy: 0.9934\n",
      "Epoch 27/30\n",
      "20/20 [==============================] - 23s 1s/step - loss: 0.0342 - accuracy: 0.9923 - val_loss: 0.0344 - val_accuracy: 0.9935\n",
      "Epoch 28/30\n",
      "20/20 [==============================] - 23s 1s/step - loss: 0.0338 - accuracy: 0.9925 - val_loss: 0.0331 - val_accuracy: 0.9931\n",
      "Epoch 29/30\n",
      "20/20 [==============================] - 23s 1s/step - loss: 0.0329 - accuracy: 0.9919 - val_loss: 0.0320 - val_accuracy: 0.9934\n",
      "Epoch 30/30\n",
      "20/20 [==============================] - 24s 1s/step - loss: 0.0323 - accuracy: 0.9929 - val_loss: 0.0316 - val_accuracy: 0.9945\n"
     ]
    }
   ],
   "source": [
    "early_stop = keras.callbacks.EarlyStopping(monitor = 'val_accuracy', min_delta = 0.0005, patience=8, \n",
    "                                           restore_best_weights=True )\n",
    "history = gru_model.fit(X_train, y_train, batch_size = 1000, validation_data=(X_test, y_test), \n",
    "                        epochs=30)"
   ]
  },
  {
   "cell_type": "markdown",
   "id": "02d80fc9",
   "metadata": {},
   "source": [
    "## Explore Results \n",
    "\n",
    "### 1. Plot accuracy and loss values of the training dataset"
   ]
  },
  {
   "cell_type": "code",
   "execution_count": 61,
   "id": "5aa88f1d",
   "metadata": {},
   "outputs": [
    {
     "data": {
      "image/png": "[encoded data removed]",
      "text/plain": [
       "<Figure size 432x288 with 1 Axes>"
      ]
     },
     "metadata": {
      "needs_background": "light"
     },
     "output_type": "display_data"
    }
   ],
   "source": [
    "# Plot the loss and accuracy curves for training\n",
    "\n",
    "import matplotlib.pyplot as plt\n",
    "plt.plot(history.history['loss'], color='b', label=\"train_loss\")\n",
    "plt.title(\"Training Loss\")\n",
    "plt.xlabel(\"Number of Epochs\")\n",
    "plt.ylabel(\"Percent(%)\")\n",
    "plt.legend()\n",
    "plt.savefig(\"training_loss.png\")"
   ]
  },
  {
   "cell_type": "code",
   "execution_count": 59,
   "id": "082f1efb",
   "metadata": {},
   "outputs": [
    {
     "data": {
      "text/plain": [
       "<matplotlib.legend.Legend at 0x7f3a652985e0>"
      ]
     },
     "execution_count": 59,
     "metadata": {},
     "output_type": "execute_result"
    },
    {
     "data": {
      "image/png": "[encoded data removed]",
      "text/plain": [
       "<Figure size 432x288 with 1 Axes>"
      ]
     },
     "metadata": {
      "needs_background": "light"
     },
     "output_type": "display_data"
    }
   ],
   "source": [
    "# Plot the test accuracy\n",
    "\n",
    "plt.plot(history.history['accuracy'], color='g', label=\"train_accuracy\")\n",
    "plt.title(\"Train Accuracy\")\n",
    "plt.xlabel(\"Number of Epochs\")\n",
    "plt.ylabel(\"Percent(%)\")\n",
    "plt.legend()\n",
    "#plt.savefig(\"loss_accuracy.png\")"
   ]
  },
  {
   "cell_type": "markdown",
   "id": "b192e93a",
   "metadata": {},
   "source": [
    "### 2. Plot accuracy and loss values of the validation dataset"
   ]
  },
  {
   "cell_type": "code",
   "execution_count": 60,
   "id": "ddd85f79",
   "metadata": {},
   "outputs": [
    {
     "data": {
      "text/plain": [
       "<matplotlib.legend.Legend at 0x7f3a65208640>"
      ]
     },
     "execution_count": 60,
     "metadata": {},
     "output_type": "execute_result"
    },
    {
     "data": {
      "image/png": "[encoded data removed]",
      "text/plain": [
       "<Figure size 432x288 with 1 Axes>"
      ]
     },
     "metadata": {
      "needs_background": "light"
     },
     "output_type": "display_data"
    }
   ],
   "source": [
    "# Plot the accuracy for validation\n",
    "\n",
    "plt.plot(history.history['val_accuracy'], color='g', label=\"validation_accuracy\")\n",
    "plt.title(\"Validation Accuracy\")\n",
    "plt.xlabel(\"Number of Epochs\")\n",
    "plt.ylabel(\"Percent(%)\")\n",
    "plt.legend()\n",
    "#plt.savefig(\"loss_accuracy.png\")"
   ]
  },
  {
   "cell_type": "code",
   "execution_count": 62,
   "id": "64c5931f",
   "metadata": {},
   "outputs": [
    {
     "data": {
      "image/png": "[encoded data removed]",
      "text/plain": [
       "<Figure size 432x288 with 1 Axes>"
      ]
     },
     "metadata": {
      "needs_background": "light"
     },
     "output_type": "display_data"
    }
   ],
   "source": [
    "# Plot the loss and accuracy curves for validation \n",
    "\n",
    "import matplotlib.pyplot as plt\n",
    "plt.plot(history.history['val_loss'], color='b', label=\"validation loss\")\n",
    "plt.title(\"Validation Loss\")\n",
    "plt.xlabel(\"Number of Epochs\")\n",
    "plt.ylabel(\"Loss\")\n",
    "plt.legend()\n",
    "plt.savefig(\"validation_loss.png\")"
   ]
  },
  {
   "cell_type": "markdown",
   "id": "b2c5768a",
   "metadata": {},
   "source": [
    "### 3. Confusion matrix of the validation dataset"
   ]
  },
  {
   "cell_type": "code",
   "execution_count": 34,
   "id": "87d4a1ba",
   "metadata": {},
   "outputs": [
    {
     "data": {
      "image/png": "[encoded data removed]",
      "text/plain": [
       "<Figure size 576x576 with 2 Axes>"
      ]
     },
     "metadata": {
      "needs_background": "light"
     },
     "output_type": "display_data"
    }
   ],
   "source": [
    "# Predict the values from the validation dataset\n",
    "Y_pred = gru_model.predict(X_test)\n",
    "\n",
    "# Convert predictions classes to one hot vectors \n",
    "Y_pred_classes = np.argmax(y_test,axis = 1) \n",
    "# Convert validation observations to one hot vectors\n",
    "Y_true = np.argmax(y_test,axis = 1) \n",
    "# compute the confusion matrix\n",
    "confusion_mtx = confusion_matrix(Y_true, Y_pred_classes) \n",
    "# plot the confusion matrix\n",
    "f,ax = plt.subplots(figsize=(8, 8))\n",
    "sns.heatmap(confusion_mtx, annot=True, linewidths=0.01,cmap=\"Greens\",linecolor=\"gray\", fmt= '.1f',ax=ax)\n",
    "plt.xlabel(\"Predicted Label\")\n",
    "plt.ylabel(\"True Label\")\n",
    "plt.title(\"Confusion Matrix\")\n",
    "plt.savefig(\"confusion.png\")"
   ]
  },
  {
   "cell_type": "code",
   "execution_count": null,
   "id": "1d9e22c9",
   "metadata": {},
   "outputs": [],
   "source": []
  }
 ],
 "metadata": {
  "kernelspec": {
   "display_name": "Python 3 (ipykernel)",
   "language": "python",
   "name": "python3"
  },
  "language_info": {
   "codemirror_mode": {
    "name": "ipython",
    "version": 3
   },
   "file_extension": ".py",
   "mimetype": "text/x-python",
   "name": "python",
   "nbconvert_exporter": "python",
   "pygments_lexer": "ipython3",
   "version": "3.9.7"
  }
 },
 "nbformat": 4,
 "nbformat_minor": 5
}
