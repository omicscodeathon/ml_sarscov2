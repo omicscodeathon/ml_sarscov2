{
 "cells": [
  {
   "cell_type": "markdown",
   "id": "49b3ef88",
   "metadata": {},
   "source": [
    "## Application of deep learning approach to classify SARS-CoV-2 variants\n",
    "\n",
    "\n",
    "### Coding Notebook\n",
    "### Install and load the following libraries and packages"
   ]
  },
  {
   "cell_type": "code",
   "execution_count": 1,
   "id": "db6cfc93",
   "metadata": {},
   "outputs": [
    {
     "name": "stderr",
     "output_type": "stream",
     "text": [
      "2022-04-29 15:19:49.166560: W tensorflow/stream_executor/platform/default/dso_loader.cc:64] Could not load dynamic library 'libcudart.so.11.0'; dlerror: libcudart.so.11.0: cannot open shared object file: No such file or directory\n",
      "2022-04-29 15:19:49.166650: I tensorflow/stream_executor/cuda/cudart_stub.cc:29] Ignore above cudart dlerror if you do not have a GPU set up on your machine.\n"
     ]
    }
   ],
   "source": [
    "import pandas as pd\n",
    "import numpy as np\n",
    "import os\n",
    "import joblib\n",
    "from keras import utils as np_utils\n",
    "from sklearn.model_selection import train_test_split, GridSearchCV\n",
    "from keras.models import Sequential\n",
    "from keras.layers import Dense, Dropout, Flatten, Conv1D, MaxPooling1D, MaxPooling2D, Conv2D, LSTM, GRU, Bidirectional\n",
    "from keras import regularizers\n",
    "from keras.callbacks import EarlyStopping, ModelCheckpoint\n",
    "from keras.wrappers.scikit_learn import KerasClassifier\n",
    "import keras\n",
    "from keras import utils as np_utils\n",
    "from numpy import array\n",
    "import seaborn as sns\n",
    "from sklearn.metrics import confusion_matrix, classification_report, f1_score,ConfusionMatrixDisplay"
   ]
  },
  {
   "cell_type": "code",
   "execution_count": 20,
   "id": "3afb20a1",
   "metadata": {},
   "outputs": [
    {
     "name": "stdout",
     "output_type": "stream",
     "text": [
      "2.8.0\n"
     ]
    }
   ],
   "source": [
    "print(keras.__version__)"
   ]
  },
  {
   "cell_type": "markdown",
   "id": "fd15df0c",
   "metadata": {},
   "source": [
    "### Loading datasets and preprocessing\n",
    "\n",
    "dataset_2 - sequence dataset with over 26000 used for training and validating the model <br>\n",
    "dataset_3 - sequences to validate the model\n"
   ]
  },
  {
   "cell_type": "code",
   "execution_count": 2,
   "id": "b728b384",
   "metadata": {},
   "outputs": [],
   "source": [
    "dataset_2 = '../data/sequences.aln.fas' # huge dataset with 26k sequences\n",
    "dataset_3 = '../data/validation.sequences.fas'"
   ]
  },
  {
   "cell_type": "code",
   "execution_count": 3,
   "id": "10da2a9c",
   "metadata": {},
   "outputs": [],
   "source": [
    "#Converting sequence data into data frame\n",
    "#Ensure the fasta sequences are in one-liner and not blocks\n",
    "#The sequence file had been pre-processed to include varinat names in the sequnce headers. Check file in fasta format.\n",
    "\n",
    "#inputfile = [dataset_2,dataset_3]\n",
    "\n",
    "def preprocess(inputfile):\n",
    "    lines = []\n",
    "    header = []\n",
    "    with open (inputfile, 'r') as fasta_file:\n",
    "    \n",
    "        for line in fasta_file:\n",
    "            if line.startswith(\">\"):\n",
    "            #extract fasta headers\n",
    "                lines.append(line.replace('\\w', '').replace(\">\", \"\").replace(\"\\n\", ''))\n",
    "            \n",
    "            next\n",
    "            #extract sequence lines\n",
    "            if not line.startswith(\">\"):\n",
    "                header.append(line.replace(\"\\n\",''))\n",
    "\n",
    "            \n",
    "    #Create dictionary of header and sequences and create a dataframe\n",
    "    data = {lines[i]:header[i] for i in range(len(header))}\n",
    "    data = pd.DataFrame(list(data.items()),columns = ['Seq_ID','sequence']) \n",
    "\n",
    "    data[\"sequence\"] = data[\"sequence\"].str.upper() #ensure the sequence is un uppercase. Important for encoding\n",
    "    data[\"Variant_Id\"] = data[\"Seq_ID\"].apply(lambda i: i.split('/')[0]) #extracting variant names from sequnce file\n",
    "    data = data.drop(\"Seq_ID\", axis=1)\n",
    "    \n",
    "    return data\n",
    "\n",
    "\n",
    "\n",
    "dataset_2 = preprocess(dataset_2)\n",
    "dataset_3 = preprocess(dataset_3)\n"
   ]
  },
  {
   "cell_type": "markdown",
   "id": "a9fba9ed",
   "metadata": {},
   "source": [
    "Plot number of sequences for each variant"
   ]
  },
  {
   "cell_type": "code",
   "execution_count": 5,
   "id": "dd90cbf7",
   "metadata": {},
   "outputs": [
    {
     "data": {
      "text/plain": [
       "<AxesSubplot:title={'center':'Variant data'}>"
      ]
     },
     "execution_count": 5,
     "metadata": {},
     "output_type": "execute_result"
    },
    {
     "data": {
      "image/png": "[encoded data removed]",
      "text/plain": [
       "<Figure size 432x288 with 1 Axes>"
      ]
     },
     "metadata": {
      "needs_background": "light"
     },
     "output_type": "display_data"
    }
   ],
   "source": [
    "dataset_2[\"Variant_Id\"].value_counts().plot(kind=\"bar\", \n",
    "                                            title = \"Variant data\", \n",
    "                                            fontsize=18,\n",
    "                                           color = \"blue\")"
   ]
  },
  {
   "cell_type": "code",
   "execution_count": 6,
   "id": "41a332b1",
   "metadata": {},
   "outputs": [
    {
     "data": {
      "text/plain": [
       "<AxesSubplot:title={'center':'Variant data'}>"
      ]
     },
     "execution_count": 6,
     "metadata": {},
     "output_type": "execute_result"
    },
    {
     "data": {
      "image/png": "[encoded data removed]",
      "text/plain": [
       "<Figure size 432x288 with 1 Axes>"
      ]
     },
     "metadata": {
      "needs_background": "light"
     },
     "output_type": "display_data"
    }
   ],
   "source": [
    "dataset_3[\"Variant_Id\"].value_counts().plot(kind=\"bar\", \n",
    "                                            title = \"Variant data\", \n",
    "                                            fontsize=18,\n",
    "                                           color = \"blue\")"
   ]
  },
  {
   "cell_type": "markdown",
   "id": "8b435318",
   "metadata": {},
   "source": [
    "### Assign variant name to numerical form\n",
    "\n",
    "gamma - 0 \\\n",
    "delta - 1 \\\n",
    "beta - 2 \\\n",
    "alpha - 3 \\\n",
    "omicron - 4"
   ]
  },
  {
   "cell_type": "code",
   "execution_count": 6,
   "id": "015572cb",
   "metadata": {},
   "outputs": [],
   "source": [
    "def variant_to_numerical(sequence_data):\n",
    "    \"\"\"\n",
    "    Function to map convetional variant names to numeric\n",
    "    pass a sequence data with column named \"Variant_ID\".\n",
    "    \n",
    "    \"\"\"\n",
    "    \n",
    "    variant = {\"gamma\" : 0, \"delta\" : 1, \"beta\" : 2, \"alpha\" : 3, \"omicron\":4}\n",
    "    \n",
    "    \n",
    "    sequence_data[\"Variant_Id\"] = sequence_data[\"Variant_Id\"].map(variant)\n",
    "    \n",
    "    return sequence_data\n",
    "    "
   ]
  },
  {
   "cell_type": "code",
   "execution_count": 7,
   "id": "8ab70041",
   "metadata": {},
   "outputs": [
    {
     "data": {
      "text/html": [
       "<div>\n",
       "<style scoped>\n",
       "    .dataframe tbody tr th:only-of-type {\n",
       "        vertical-align: middle;\n",
       "    }\n",
       "\n",
       "    .dataframe tbody tr th {\n",
       "        vertical-align: top;\n",
       "    }\n",
       "\n",
       "    .dataframe thead th {\n",
       "        text-align: right;\n",
       "    }\n",
       "</style>\n",
       "<table border=\"1\" class=\"dataframe\">\n",
       "  <thead>\n",
       "    <tr style=\"text-align: right;\">\n",
       "      <th></th>\n",
       "      <th>sequence</th>\n",
       "      <th>Variant_Id</th>\n",
       "    </tr>\n",
       "  </thead>\n",
       "  <tbody>\n",
       "    <tr>\n",
       "      <th>0</th>\n",
       "      <td>ATGTTTGTTTTTCTTGTTTTATTGCCACTAGTCTCTAGTCAGTGTG...</td>\n",
       "      <td>3</td>\n",
       "    </tr>\n",
       "    <tr>\n",
       "      <th>1</th>\n",
       "      <td>ATGTTTGTTTTTCTTGTTTTATTGCCACTAGTCTCTAGTCAGTGTG...</td>\n",
       "      <td>3</td>\n",
       "    </tr>\n",
       "    <tr>\n",
       "      <th>2</th>\n",
       "      <td>ATGTTTGTTTTTCTTGTTTTATTGCCACTAGTCTCTAGTCAGTGTG...</td>\n",
       "      <td>3</td>\n",
       "    </tr>\n",
       "    <tr>\n",
       "      <th>3</th>\n",
       "      <td>ATGTTTGTTTTTCTTGTTTTATTGCCACTAGTCTCTAGTCAGTGTG...</td>\n",
       "      <td>3</td>\n",
       "    </tr>\n",
       "    <tr>\n",
       "      <th>4</th>\n",
       "      <td>ATGTTTGTTTTTCTTGTTTTATTGCCACTAGTCTCTAGTCAGTGTG...</td>\n",
       "      <td>3</td>\n",
       "    </tr>\n",
       "  </tbody>\n",
       "</table>\n",
       "</div>"
      ],
      "text/plain": [
       "                                            sequence  Variant_Id\n",
       "0  ATGTTTGTTTTTCTTGTTTTATTGCCACTAGTCTCTAGTCAGTGTG...           3\n",
       "1  ATGTTTGTTTTTCTTGTTTTATTGCCACTAGTCTCTAGTCAGTGTG...           3\n",
       "2  ATGTTTGTTTTTCTTGTTTTATTGCCACTAGTCTCTAGTCAGTGTG...           3\n",
       "3  ATGTTTGTTTTTCTTGTTTTATTGCCACTAGTCTCTAGTCAGTGTG...           3\n",
       "4  ATGTTTGTTTTTCTTGTTTTATTGCCACTAGTCTCTAGTCAGTGTG...           3"
      ]
     },
     "execution_count": 7,
     "metadata": {},
     "output_type": "execute_result"
    }
   ],
   "source": [
    "variant_to_numerical(dataset_2)\n",
    "\n",
    "dataset_2.head()"
   ]
  },
  {
   "cell_type": "code",
   "execution_count": 8,
   "id": "2d0596e7",
   "metadata": {},
   "outputs": [],
   "source": [
    "def encode_seq(seq_data):\n",
    "    \"\"\"\n",
    "    Function to convert nucleotides to binary form and hot-encoded\n",
    "\n",
    "    Arguments :\n",
    "    seq_data = sequence dataframe with \"sequence\" and \"Variant_ID\" columns\n",
    "\n",
    "    char : total number of unique characters in the whole dataset. This is used to \n",
    "    bin : array list of zeros corresponding to the number of characters\n",
    "\n",
    "    \"\"\"\n",
    "\n",
    "    ntds = []\n",
    "    for i in seq_data['sequence']:\n",
    "        for seq in i:\n",
    "            ntd = seq.strip()\n",
    "            ntds.append(ntd.upper())\n",
    "        \n",
    "    char = list(set(ntds))\n",
    "    \n",
    "    bin = [0] * len(char)\n",
    "    bin0  = [0] * len(char)\n",
    "    bin1  = [0] * len(char)\n",
    "    bin2  = [0] * len(char)\n",
    "    bin3  = [0] * len(char)\n",
    "    \n",
    "    #Create a dictionary of arrays to the seqeunce characters\n",
    "    Encode = {}\n",
    "\n",
    "    for i in char:\n",
    "        if i == 'A':\n",
    "            bin0[0] = 1\n",
    "            Encode[i] = bin0\n",
    "        elif i == 'C':\n",
    "            bin1[1] = 1\n",
    "            Encode[i] = bin1\n",
    "        elif i == 'G':\n",
    "            bin2[2] = 1\n",
    "            Encode[i] = bin2\n",
    "        elif i == 'T':\n",
    "            bin3[3] = 1\n",
    "            Encode[i] = bin3\n",
    "        else:\n",
    "            Encode[i] = bin\n",
    "    \n",
    "      #convert the sequence characters to encoded form and append to the list\n",
    "\n",
    "    encoded_list = []\n",
    "\n",
    "    for seq in seq_data[\"sequence\"]:\n",
    "        encoded_list.append([Encode[x] for x in seq])\n",
    "\n",
    "    return encoded_list"
   ]
  },
  {
   "cell_type": "markdown",
   "id": "587152b4",
   "metadata": {},
   "source": [
    "### Encoding sequences"
   ]
  },
  {
   "cell_type": "code",
   "execution_count": 9,
   "id": "b8827f41",
   "metadata": {},
   "outputs": [],
   "source": [
    "#call function to encode the sequences and convert to array form\n",
    "X_mine_data_kmer_2 = np.array(encode_seq(dataset_2))\n",
    "\n",
    "#np.save(\"../../my_array\", X_mine_data_kmer) #just setting DIR where to store this. Next time no need to run the process again\n",
    "\n",
    "#X_mine_data_kmer_2 = np.load(\"../../my_array.npy\")\n"
   ]
  },
  {
   "cell_type": "code",
   "execution_count": 10,
   "id": "8793056b",
   "metadata": {},
   "outputs": [],
   "source": [
    "#set variable for \n",
    "y_mine_kmer_2 = dataset_2['Variant_Id']\n",
    "\n",
    "#y_mine_kmer_2.shape"
   ]
  },
  {
   "cell_type": "code",
   "execution_count": 23,
   "id": "a9abe8ef",
   "metadata": {},
   "outputs": [
    {
     "data": {
      "text/html": [
       "<div>\n",
       "<style scoped>\n",
       "    .dataframe tbody tr th:only-of-type {\n",
       "        vertical-align: middle;\n",
       "    }\n",
       "\n",
       "    .dataframe tbody tr th {\n",
       "        vertical-align: top;\n",
       "    }\n",
       "\n",
       "    .dataframe thead th {\n",
       "        text-align: right;\n",
       "    }\n",
       "</style>\n",
       "<table border=\"1\" class=\"dataframe\">\n",
       "  <thead>\n",
       "    <tr style=\"text-align: right;\">\n",
       "      <th></th>\n",
       "      <th>sequence</th>\n",
       "      <th>Variant_Id</th>\n",
       "    </tr>\n",
       "  </thead>\n",
       "  <tbody>\n",
       "    <tr>\n",
       "      <th>0</th>\n",
       "      <td>ATGTTTGTTTTTCTTGTTTTATTGCCACTAGTCTCTAGTCAGTGTG...</td>\n",
       "      <td>3</td>\n",
       "    </tr>\n",
       "    <tr>\n",
       "      <th>1</th>\n",
       "      <td>ATGTTTGTTTTTCTTGTTTTATTGCCACTAGTCTCTAGTCAGTGTG...</td>\n",
       "      <td>3</td>\n",
       "    </tr>\n",
       "    <tr>\n",
       "      <th>2</th>\n",
       "      <td>ATGTTTGTTTTTCTTGTTTTATTGCCACTAGTCTCTAGTCAGTGTG...</td>\n",
       "      <td>3</td>\n",
       "    </tr>\n",
       "    <tr>\n",
       "      <th>3</th>\n",
       "      <td>ATGTTTGTTTTTCTTGTTTTATTGCCACTAGTCTCTAGTCAGTGTG...</td>\n",
       "      <td>3</td>\n",
       "    </tr>\n",
       "    <tr>\n",
       "      <th>4</th>\n",
       "      <td>ATGTTTGTTTTTCTTGTTTTATTGCCACTAGTCTCTAGTCAGTGTG...</td>\n",
       "      <td>3</td>\n",
       "    </tr>\n",
       "  </tbody>\n",
       "</table>\n",
       "</div>"
      ],
      "text/plain": [
       "                                            sequence  Variant_Id\n",
       "0  ATGTTTGTTTTTCTTGTTTTATTGCCACTAGTCTCTAGTCAGTGTG...           3\n",
       "1  ATGTTTGTTTTTCTTGTTTTATTGCCACTAGTCTCTAGTCAGTGTG...           3\n",
       "2  ATGTTTGTTTTTCTTGTTTTATTGCCACTAGTCTCTAGTCAGTGTG...           3\n",
       "3  ATGTTTGTTTTTCTTGTTTTATTGCCACTAGTCTCTAGTCAGTGTG...           3\n",
       "4  ATGTTTGTTTTTCTTGTTTTATTGCCACTAGTCTCTAGTCAGTGTG...           3"
      ]
     },
     "execution_count": 23,
     "metadata": {},
     "output_type": "execute_result"
    }
   ],
   "source": [
    "dataset_2.head()"
   ]
  },
  {
   "cell_type": "markdown",
   "id": "68edc165",
   "metadata": {},
   "source": [
    "### **Model Fitting**\n",
    "Split the dataset into training and validation (80:20) ration."
   ]
  },
  {
   "cell_type": "code",
   "execution_count": 11,
   "id": "fcbce45c",
   "metadata": {},
   "outputs": [],
   "source": [
    "#Split dataset into training and validation\n",
    "X_train, X_test, y_train, y_test = train_test_split(X_mine_data_kmer_2, y_mine_kmer_2, random_state = 42, stratify = y_mine_kmer_2)\n",
    "\n",
    "#have the data in tensor-readable form. I also don't know what that means.\n",
    "y_train = keras.utils.np_utils.to_categorical(y_train)\n",
    "y_test = keras.utils.np_utils.to_categorical(y_test)"
   ]
  },
  {
   "cell_type": "code",
   "execution_count": 23,
   "id": "ed4a8e34",
   "metadata": {},
   "outputs": [
    {
     "data": {
      "text/plain": [
       "(19527, 3854, 13)"
      ]
     },
     "execution_count": 23,
     "metadata": {},
     "output_type": "execute_result"
    }
   ],
   "source": [
    "X_train.shape"
   ]
  },
  {
   "cell_type": "code",
   "execution_count": 24,
   "id": "1f974c4f",
   "metadata": {},
   "outputs": [
    {
     "data": {
      "text/plain": [
       "(6509, 3854, 13)"
      ]
     },
     "execution_count": 24,
     "metadata": {},
     "output_type": "execute_result"
    }
   ],
   "source": [
    "X_test.shape"
   ]
  },
  {
   "cell_type": "markdown",
   "id": "718b1595",
   "metadata": {},
   "source": [
    "Set the model "
   ]
  },
  {
   "cell_type": "code",
   "execution_count": 43,
   "id": "93dea639",
   "metadata": {
    "scrolled": true
   },
   "outputs": [
    {
     "name": "stdout",
     "output_type": "stream",
     "text": [
      "Model: \"sequential_1\"\n",
      "_________________________________________________________________\n",
      " Layer (type)                Output Shape              Param #   \n",
      "=================================================================\n",
      " conv1d_4 (Conv1D)           (None, 3849, 54)          4266      \n",
      "                                                                 \n",
      " max_pooling1d_4 (MaxPooling  (None, 769, 54)          0         \n",
      " 1D)                                                             \n",
      "                                                                 \n",
      " dropout_4 (Dropout)         (None, 769, 54)           0         \n",
      "                                                                 \n",
      " conv1d_5 (Conv1D)           (None, 769, 27)           4401      \n",
      "                                                                 \n",
      " max_pooling1d_5 (MaxPooling  (None, 256, 27)          0         \n",
      " 1D)                                                             \n",
      "                                                                 \n",
      " dropout_5 (Dropout)         (None, 256, 27)           0         \n",
      "                                                                 \n",
      " conv1d_6 (Conv1D)           (None, 256, 14)           770       \n",
      "                                                                 \n",
      " max_pooling1d_6 (MaxPooling  (None, 85, 14)           0         \n",
      " 1D)                                                             \n",
      "                                                                 \n",
      " dropout_6 (Dropout)         (None, 85, 14)            0         \n",
      "                                                                 \n",
      " conv1d_7 (Conv1D)           (None, 85, 7)             203       \n",
      "                                                                 \n",
      " max_pooling1d_7 (MaxPooling  (None, 28, 7)            0         \n",
      " 1D)                                                             \n",
      "                                                                 \n",
      " bidirectional_1 (Bidirectio  (None, 1024)             1600512   \n",
      " nal)                                                            \n",
      "                                                                 \n",
      " dropout_7 (Dropout)         (None, 1024)              0         \n",
      "                                                                 \n",
      " flatten_1 (Flatten)         (None, 1024)              0         \n",
      "                                                                 \n",
      " dense_6 (Dense)             (None, 256)               262400    \n",
      "                                                                 \n",
      " dense_7 (Dense)             (None, 128)               32896     \n",
      "                                                                 \n",
      " dense_8 (Dense)             (None, 64)                8256      \n",
      "                                                                 \n",
      " dense_9 (Dense)             (None, 32)                2080      \n",
      "                                                                 \n",
      " dense_10 (Dense)            (None, 16)                528       \n",
      "                                                                 \n",
      " dense_11 (Dense)            (None, 5)                 85        \n",
      "                                                                 \n",
      "=================================================================\n",
      "Total params: 1,916,397\n",
      "Trainable params: 1,916,397\n",
      "Non-trainable params: 0\n",
      "_________________________________________________________________\n"
     ]
    }
   ],
   "source": [
    "#Model parameter setting\n",
    "\n",
    "cnn_model_c = Sequential()\n",
    "\n",
    "#Layer 1 - feature extraction\n",
    "#Performs dimension reduction\n",
    "\n",
    "cnn_model_c.add(Conv1D(filters = 54, kernel_size = (6), activation = 'relu', \n",
    "                     input_shape = X_mine_data_kmer_2.shape[1:])) #ensure you change the shape\n",
    "\n",
    "cnn_model_c.add(MaxPooling1D(pool_size= (5)))\n",
    "cnn_model_c.add(Dropout(0.5))\n",
    "\n",
    "#layer2\n",
    "cnn_model_c.add(Conv1D(filters = 27, kernel_size = (3), activation = 'relu', padding = 'same'))\n",
    "cnn_model_c.add(MaxPooling1D(pool_size= (3)))\n",
    "cnn_model_c.add(Dropout(0.2))\n",
    "\n",
    "#layer3\n",
    "cnn_model_c.add(Conv1D(filters = 14, kernel_size = (2), activation = 'relu', padding = 'same'))\n",
    "cnn_model_c.add(MaxPooling1D(pool_size= (3)))\n",
    "cnn_model_c.add(Dropout(0.1))\n",
    "\n",
    "#layer4\n",
    "cnn_model_c.add(Conv1D(filters = 7, kernel_size = (2), activation = 'relu', padding = 'same'))#\n",
    "cnn_model_c.add(MaxPooling1D(pool_size= (3)))\n",
    "cnn_model_c.add(Bidirectional(GRU(512, activation = 'relu')))\n",
    "cnn_model_c.add(Dropout(0.01))\n",
    "\n",
    "#Flatten\n",
    "cnn_model_c.add(Flatten()) #right place for flattening\n",
    "\n",
    "#Hidden dense layer\n",
    "cnn_model_c.add(Dense(256, activation = 'relu'))\n",
    "cnn_model_c.add(Dense(128))#, activation = 'relu'))\n",
    "cnn_model_c.add(Dense(64))#, activation = 'relu'))\n",
    "cnn_model_c.add(Dense(32))#, activation = 'relu'))\n",
    "cnn_model_c.add(Dense(16))#, activation = 'relu', kernel_regularizer = regularizers.l2(0.01)))\n",
    "cnn_model_c.add(Dense(5, activation = 'softmax'))\n",
    "\n",
    "#Compile model\n",
    "cnn_model_c.compile(loss='categorical_crossentropy', \n",
    "              optimizer='adam',\n",
    "              metrics=['accuracy'])\n",
    "\n",
    "cnn_model_c.summary()"
   ]
  },
  {
   "cell_type": "code",
   "execution_count": 44,
   "id": "ab4eae27",
   "metadata": {
    "scrolled": true
   },
   "outputs": [
    {
     "name": "stdout",
     "output_type": "stream",
     "text": [
      "Epoch 1/30\n",
      "20/20 [==============================] - 35s 2s/step - loss: 1.6153 - accuracy: 0.2131 - val_loss: 1.6055 - val_accuracy: 0.2149\n",
      "Epoch 2/30\n",
      "20/20 [==============================] - 30s 2s/step - loss: 1.6047 - accuracy: 0.2130 - val_loss: 1.6139 - val_accuracy: 0.1982\n",
      "Epoch 3/30\n",
      "20/20 [==============================] - 30s 2s/step - loss: 1.6013 - accuracy: 0.2255 - val_loss: 1.7743 - val_accuracy: 0.1982\n",
      "Epoch 4/30\n",
      "20/20 [==============================] - 30s 2s/step - loss: 1.6011 - accuracy: 0.2186 - val_loss: 1.6119 - val_accuracy: 0.1982\n",
      "Epoch 5/30\n",
      "20/20 [==============================] - 30s 2s/step - loss: 1.5721 - accuracy: 0.2603 - val_loss: 1.5436 - val_accuracy: 0.1977\n",
      "Epoch 6/30\n",
      "20/20 [==============================] - 31s 2s/step - loss: 1.2551 - accuracy: 0.4030 - val_loss: 1.1107 - val_accuracy: 0.4234\n",
      "Epoch 7/30\n",
      "20/20 [==============================] - 31s 2s/step - loss: 0.8249 - accuracy: 0.6072 - val_loss: 0.6316 - val_accuracy: 0.7445\n",
      "Epoch 8/30\n",
      "20/20 [==============================] - 31s 2s/step - loss: 0.5782 - accuracy: 0.7368 - val_loss: 0.5725 - val_accuracy: 0.7468\n",
      "Epoch 9/30\n",
      "20/20 [==============================] - 30s 2s/step - loss: 0.4593 - accuracy: 0.8016 - val_loss: 1.6880 - val_accuracy: 0.5849\n",
      "Epoch 10/30\n",
      "20/20 [==============================] - 31s 2s/step - loss: 0.3678 - accuracy: 0.8660 - val_loss: 0.6307 - val_accuracy: 0.7459\n",
      "Epoch 11/30\n",
      "20/20 [==============================] - 31s 2s/step - loss: 0.2791 - accuracy: 0.9042 - val_loss: 0.9879 - val_accuracy: 0.7476\n",
      "Epoch 12/30\n",
      "20/20 [==============================] - 31s 2s/step - loss: 0.2262 - accuracy: 0.9297 - val_loss: 1.0217 - val_accuracy: 0.7476\n",
      "Epoch 13/30\n",
      "20/20 [==============================] - 30s 2s/step - loss: 0.2033 - accuracy: 0.9370 - val_loss: 0.8174 - val_accuracy: 0.7476\n",
      "Epoch 14/30\n",
      "20/20 [==============================] - 31s 2s/step - loss: 0.1889 - accuracy: 0.9406 - val_loss: 0.9215 - val_accuracy: 0.7460\n",
      "Epoch 15/30\n",
      "20/20 [==============================] - 30s 2s/step - loss: 0.1685 - accuracy: 0.9451 - val_loss: 0.8561 - val_accuracy: 0.7479\n",
      "Epoch 16/30\n",
      "20/20 [==============================] - 31s 2s/step - loss: 0.1490 - accuracy: 0.9532 - val_loss: 0.5376 - val_accuracy: 0.7480\n",
      "Epoch 17/30\n",
      "20/20 [==============================] - 31s 2s/step - loss: 0.1429 - accuracy: 0.9579 - val_loss: 0.6806 - val_accuracy: 0.7511\n",
      "Epoch 18/30\n",
      "20/20 [==============================] - 31s 2s/step - loss: 0.1270 - accuracy: 0.9655 - val_loss: 0.3208 - val_accuracy: 0.7482\n",
      "Epoch 19/30\n",
      "20/20 [==============================] - 31s 2s/step - loss: 0.1197 - accuracy: 0.9678 - val_loss: 0.3766 - val_accuracy: 0.7791\n",
      "Epoch 20/30\n",
      "20/20 [==============================] - 31s 2s/step - loss: 0.1042 - accuracy: 0.9728 - val_loss: 0.0779 - val_accuracy: 0.9920\n",
      "Epoch 21/30\n",
      "20/20 [==============================] - 31s 2s/step - loss: 0.1030 - accuracy: 0.9748 - val_loss: 0.2324 - val_accuracy: 0.7608\n",
      "Epoch 22/30\n",
      "20/20 [==============================] - 31s 2s/step - loss: 0.1019 - accuracy: 0.9754 - val_loss: 0.1098 - val_accuracy: 0.9886\n",
      "Epoch 23/30\n",
      "20/20 [==============================] - 31s 2s/step - loss: 0.0917 - accuracy: 0.9791 - val_loss: 0.0668 - val_accuracy: 0.9920\n",
      "Epoch 24/30\n",
      "20/20 [==============================] - 31s 2s/step - loss: 0.0841 - accuracy: 0.9812 - val_loss: 0.0607 - val_accuracy: 0.9920\n",
      "Epoch 25/30\n",
      "20/20 [==============================] - 31s 2s/step - loss: 0.0833 - accuracy: 0.9824 - val_loss: 0.0616 - val_accuracy: 0.9909\n",
      "Epoch 26/30\n",
      "20/20 [==============================] - 31s 2s/step - loss: 0.0813 - accuracy: 0.9821 - val_loss: 0.0628 - val_accuracy: 0.9920\n",
      "Epoch 27/30\n",
      "20/20 [==============================] - 31s 2s/step - loss: 0.0806 - accuracy: 0.9822 - val_loss: 0.0576 - val_accuracy: 0.9919\n",
      "Epoch 28/30\n",
      "20/20 [==============================] - 31s 2s/step - loss: 0.0753 - accuracy: 0.9836 - val_loss: 0.0622 - val_accuracy: 0.9916\n",
      "Epoch 29/30\n",
      "20/20 [==============================] - 31s 2s/step - loss: 0.0704 - accuracy: 0.9848 - val_loss: 0.0551 - val_accuracy: 0.9922\n",
      "Epoch 30/30\n",
      "20/20 [==============================] - 32s 2s/step - loss: 0.0738 - accuracy: 0.9855 - val_loss: 0.0539 - val_accuracy: 0.9919\n"
     ]
    }
   ],
   "source": [
    "#Fit the model on the dataset\n",
    "\n",
    "early_stop = keras.callbacks.EarlyStopping(monitor = 'val_accuracy', min_delta = 0.0005, patience=8, \n",
    "                                           restore_best_weights=True )\n",
    "\n",
    "history = cnn_model_c.fit(X_train, y_train, batch_size = 1000, validation_data=(X_test, y_test), \n",
    "                        epochs=30)"
   ]
  },
  {
   "cell_type": "code",
   "execution_count": 15,
   "id": "e8abd7be",
   "metadata": {},
   "outputs": [],
   "source": [
    "# save the model to disk\n",
    "#filename = 'cnn_model.sav'\n",
    "#joblib.dump(cnn_model, 'cnn_model.sav')\n",
    " \n",
    "# load the model from disk\n",
    "#cnn_model_c = joblib.load(filename)\n"
   ]
  },
  {
   "cell_type": "markdown",
   "id": "110f78b4",
   "metadata": {},
   "source": [
    "## Explore Results \n",
    "\n",
    "### a. Plot accuracy and loss values of the training dataset"
   ]
  },
  {
   "cell_type": "code",
   "execution_count": 45,
   "id": "5aa88f1d",
   "metadata": {},
   "outputs": [
    {
     "data": {
      "image/png": "[encoded data removed]",
      "text/plain": [
       "<Figure size 432x288 with 1 Axes>"
      ]
     },
     "metadata": {
      "needs_background": "light"
     },
     "output_type": "display_data"
    }
   ],
   "source": [
    "# Plot the loss and accuracy curves for training\n",
    "\n",
    "import matplotlib.pyplot as plt\n",
    "plt.plot(history.history['loss'], color='b', label=\"train_loss\")\n",
    "plt.title(\"Training Loss\")\n",
    "plt.xlabel(\"Number of Epochs\")\n",
    "plt.ylabel(\"Percent(%)\")\n",
    "plt.xlim(0,30)\n",
    "plt.legend()\n",
    "plt.savefig(\"training_loss.png\")"
   ]
  },
  {
   "cell_type": "code",
   "execution_count": 46,
   "id": "4e60bc41",
   "metadata": {},
   "outputs": [
    {
     "data": {
      "image/png": "[encoded data removed]",
      "text/plain": [
       "<Figure size 432x288 with 1 Axes>"
      ]
     },
     "metadata": {
      "needs_background": "light"
     },
     "output_type": "display_data"
    }
   ],
   "source": [
    "# Plot the test accuracy\n",
    "\n",
    "plt.plot(history.history['accuracy'], color='g', label=\"train_accuracy\")\n",
    "plt.title(\"Train Accuracy\")\n",
    "plt.xlabel(\"Number of Epochs\")\n",
    "plt.ylabel(\"Percent(%)\")\n",
    "plt.legend()\n",
    "plt.savefig(\"test_accuracy.png\")"
   ]
  },
  {
   "cell_type": "markdown",
   "id": "fd3b4f98",
   "metadata": {},
   "source": [
    "### b. Plot accuracy and loss values of the validation dataset"
   ]
  },
  {
   "cell_type": "code",
   "execution_count": 47,
   "id": "4b579974",
   "metadata": {},
   "outputs": [
    {
     "data": {
      "image/png": "[encoded data removed]",
      "text/plain": [
       "<Figure size 432x288 with 1 Axes>"
      ]
     },
     "metadata": {
      "needs_background": "light"
     },
     "output_type": "display_data"
    }
   ],
   "source": [
    "# Plot the accuracy for validation\n",
    "\n",
    "plt.plot(history.history['val_accuracy'], color='g', label=\"validation_accuracy\")\n",
    "plt.title(\"Validation Accuracy\")\n",
    "plt.xlabel(\"Number of Epochs\")\n",
    "plt.ylabel(\"Percent(%)\")\n",
    "plt.legend()\n",
    "plt.savefig(\"validation_accuracy.png\")"
   ]
  },
  {
   "cell_type": "code",
   "execution_count": 48,
   "id": "628cc96c",
   "metadata": {},
   "outputs": [
    {
     "data": {
      "image/png": "[encoded data removed]",
      "text/plain": [
       "<Figure size 432x288 with 1 Axes>"
      ]
     },
     "metadata": {
      "needs_background": "light"
     },
     "output_type": "display_data"
    }
   ],
   "source": [
    "# Plot the loss and accuracy curves for validation \n",
    "\n",
    "import matplotlib.pyplot as plt\n",
    "plt.plot(history.history['val_loss'], color='b', label=\"validation loss\")\n",
    "plt.title(\"Validation Loss\")\n",
    "plt.xlabel(\"Number of Epochs\")\n",
    "plt.ylabel(\"Loss\")\n",
    "plt.legend()\n",
    "plt.savefig(\"validation_loss.png\")"
   ]
  },
  {
   "cell_type": "markdown",
   "id": "ef17bad6",
   "metadata": {},
   "source": [
    "### c. Confusion matrix of the validation dataset"
   ]
  },
  {
   "cell_type": "code",
   "execution_count": 63,
   "id": "87d4a1ba",
   "metadata": {},
   "outputs": [
    {
     "data": {
      "image/png": "[encoded data removed]",
      "text/plain": [
       "<Figure size 576x576 with 2 Axes>"
      ]
     },
     "metadata": {
      "needs_background": "light"
     },
     "output_type": "display_data"
    }
   ],
   "source": [
    "# Predict the values from the validation dataset\n",
    "Y_pred = cnn_model_c.predict(X_test)\n",
    "\n",
    "# Convert predictions classes to one hot vectors \n",
    "Y_pred_classes = np.argmax(y_test,axis = 1) \n",
    "\n",
    "# Convert validation observations to one hot vectors\n",
    "Y_true = np.argmax(y_test,axis = 1) \n",
    "# compute the confusion matrix\n",
    "confusion_mtx = confusion_matrix(Y_true, Y_pred_classes) \n",
    "# plot the confusion matrix\n",
    "f,ax = plt.subplots(figsize=(8, 8))\n",
    "\n",
    "\n",
    "sns.heatmap(confusion_mtx, annot=True, \n",
    "            linewidths=0.01,cmap=\"Greens\",linecolor=\"gray\", \n",
    "            fmt= '.1f',ax=ax,\n",
    "            xticklabels=[\"gamma\",\"delta\",\"beta\",\"alpha\",\"omicron\"], \n",
    "            yticklabels=[\"gamma\",\"delta\",\"beta\",\"alpha\",\"omicron\"])\n",
    "\n",
    "plt.xlabel(\"Predicted Label\")\n",
    "plt.ylabel(\"True Label\")\n",
    "plt.title(\"Confusion Matrix\")\n",
    "plt.savefig(\"confusion.png\")"
   ]
  },
  {
   "cell_type": "markdown",
   "id": "8ec76dd1",
   "metadata": {},
   "source": [
    "### c. Other metrices"
   ]
  },
  {
   "cell_type": "code",
   "execution_count": 66,
   "id": "1304b509",
   "metadata": {},
   "outputs": [
    {
     "name": "stdout",
     "output_type": "stream",
     "text": [
      "[[1399    0    0    0    0]\n",
      " [   0 1374    0    0    0]\n",
      " [   0    0 1068    0    0]\n",
      " [   0    0    0 1378    0]\n",
      " [   0    0    0    0 1290]]\n"
     ]
    }
   ],
   "source": [
    "print(confusion_mtx)"
   ]
  },
  {
   "cell_type": "markdown",
   "id": "a5e2f41c",
   "metadata": {},
   "source": [
    "## Section 2: Evaluating Model on External dataset"
   ]
  },
  {
   "cell_type": "markdown",
   "id": "6d8c6886",
   "metadata": {},
   "source": [
    "A summary of the dataset"
   ]
  },
  {
   "cell_type": "code",
   "execution_count": 49,
   "id": "13540193",
   "metadata": {},
   "outputs": [
    {
     "data": {
      "text/plain": [
       "<AxesSubplot:title={'center':'Variant data'}>"
      ]
     },
     "execution_count": 49,
     "metadata": {},
     "output_type": "execute_result"
    },
    {
     "data": {
      "image/png": "[encoded data removed]",
      "text/plain": [
       "<Figure size 432x288 with 1 Axes>"
      ]
     },
     "metadata": {
      "needs_background": "light"
     },
     "output_type": "display_data"
    }
   ],
   "source": [
    "dataset_3[\"Variant_Id\"].value_counts().plot(kind=\"bar\", \n",
    "                                            title = \"Variant data\", \n",
    "                                            fontsize=18,\n",
    "                                           color = \"blue\")"
   ]
  },
  {
   "cell_type": "code",
   "execution_count": 50,
   "id": "09a8e363",
   "metadata": {},
   "outputs": [
    {
     "data": {
      "text/html": [
       "<div>\n",
       "<style scoped>\n",
       "    .dataframe tbody tr th:only-of-type {\n",
       "        vertical-align: middle;\n",
       "    }\n",
       "\n",
       "    .dataframe tbody tr th {\n",
       "        vertical-align: top;\n",
       "    }\n",
       "\n",
       "    .dataframe thead th {\n",
       "        text-align: right;\n",
       "    }\n",
       "</style>\n",
       "<table border=\"1\" class=\"dataframe\">\n",
       "  <thead>\n",
       "    <tr style=\"text-align: right;\">\n",
       "      <th></th>\n",
       "      <th>sequence</th>\n",
       "      <th>Variant_Id</th>\n",
       "    </tr>\n",
       "  </thead>\n",
       "  <tbody>\n",
       "    <tr>\n",
       "      <th>0</th>\n",
       "      <td>ATGTTTGTTTTTCTTGTTTTATTGCCACTAGTCTCTAGTCAGTGTG...</td>\n",
       "      <td>NaN</td>\n",
       "    </tr>\n",
       "    <tr>\n",
       "      <th>1</th>\n",
       "      <td>ATGTTTGTTTTTCTTGTTTTATTGCCACTAGTCTCTAGTCAGTGTG...</td>\n",
       "      <td>NaN</td>\n",
       "    </tr>\n",
       "    <tr>\n",
       "      <th>2</th>\n",
       "      <td>ATGTTTGTTTTTCTTGTTTTATTGCCACTAGTCTCTAGTCAGTGTG...</td>\n",
       "      <td>NaN</td>\n",
       "    </tr>\n",
       "    <tr>\n",
       "      <th>3</th>\n",
       "      <td>ATGTTTGTTTTTCTTGTTTTATTGCCACTAGTCTCTAGTCAGTGTG...</td>\n",
       "      <td>NaN</td>\n",
       "    </tr>\n",
       "    <tr>\n",
       "      <th>4</th>\n",
       "      <td>ATGTTTGTTTTTCTTGTTTTATTGCCACTAGTCTCTAGTCAGTGTG...</td>\n",
       "      <td>NaN</td>\n",
       "    </tr>\n",
       "  </tbody>\n",
       "</table>\n",
       "</div>"
      ],
      "text/plain": [
       "                                            sequence  Variant_Id\n",
       "0  ATGTTTGTTTTTCTTGTTTTATTGCCACTAGTCTCTAGTCAGTGTG...         NaN\n",
       "1  ATGTTTGTTTTTCTTGTTTTATTGCCACTAGTCTCTAGTCAGTGTG...         NaN\n",
       "2  ATGTTTGTTTTTCTTGTTTTATTGCCACTAGTCTCTAGTCAGTGTG...         NaN\n",
       "3  ATGTTTGTTTTTCTTGTTTTATTGCCACTAGTCTCTAGTCAGTGTG...         NaN\n",
       "4  ATGTTTGTTTTTCTTGTTTTATTGCCACTAGTCTCTAGTCAGTGTG...         NaN"
      ]
     },
     "execution_count": 50,
     "metadata": {},
     "output_type": "execute_result"
    }
   ],
   "source": [
    "variant_to_numerical(dataset_3)\n",
    "\n",
    "dataset_3.head()"
   ]
  },
  {
   "cell_type": "markdown",
   "id": "e7a73e69",
   "metadata": {},
   "source": [
    "### Perform Hot-encoding on the dataset"
   ]
  },
  {
   "cell_type": "code",
   "execution_count": 36,
   "id": "5b787ae8",
   "metadata": {},
   "outputs": [],
   "source": [
    "#call function to encode the sequences and convert to array form\n",
    "X_mine_data_kmer_3 = np.array(encode_seq(dataset_3))\n",
    "\n",
    "#np.save(\"../../my_array_3\", X_mine_data_kmer) #just setting DIR where to store this. Next time no need to run the process again\n",
    "\n",
    "#X_mine_data_kmer_3 = np.load(\"../../my_array_3.npy\")"
   ]
  },
  {
   "cell_type": "markdown",
   "id": "1e24c99d",
   "metadata": {},
   "source": [
    "### Load saved model and test on the new dataset"
   ]
  },
  {
   "cell_type": "code",
   "execution_count": 37,
   "id": "bb2d830f",
   "metadata": {},
   "outputs": [],
   "source": [
    "# load the model from disk\n",
    "#cnn_model_loaded = joblib.load('cnn_model.sav')\n",
    "\n",
    "#X_mine_data_kmer_3 = np.load(\"../../my_array_3.npy\")\n",
    "\n",
    "#X_mine_data_kmer_3.shape\n",
    "\n"
   ]
  },
  {
   "cell_type": "code",
   "execution_count": 38,
   "id": "c46c03f8",
   "metadata": {},
   "outputs": [],
   "source": [
    "# Predict the values from the validation dataset\n",
    "Y_pred = cnn_model_c.predict(X_mine_data_kmer_3)\n",
    "\n"
   ]
  },
  {
   "cell_type": "code",
   "execution_count": 39,
   "id": "93f24bf5",
   "metadata": {},
   "outputs": [
    {
     "name": "stdout",
     "output_type": "stream",
     "text": [
      "F1 score for the model is 0.9840722740824901\n"
     ]
    }
   ],
   "source": [
    "# Convert predictions classes to one hot vectors \n",
    "#set variable for\n",
    "\n",
    "y_mine_kmer_3 = dataset_3['Variant_Id'] \n",
    "y_mine_kmer_3 = np.array(y_mine_kmer_3)\n",
    "y_mine_kmer_3\n",
    "\n",
    "Y_pred_values = (Y_pred > 0.5)\n",
    "Y_pred_values = np.argmax(Y_pred, axis=1)\n",
    "\n",
    "\n",
    "val = f1_score(Y_pred_values, y_mine_kmer_3,average='weighted' )\n",
    "print(\"F1 score for the model is\", val)"
   ]
  },
  {
   "cell_type": "markdown",
   "id": "6535c339",
   "metadata": {},
   "source": [
    "### Compute and plot Confusion Matrix "
   ]
  },
  {
   "cell_type": "code",
   "execution_count": 67,
   "id": "8b6e315b",
   "metadata": {},
   "outputs": [
    {
     "data": {
      "text/plain": [
       "array([[ 432,    0,    5,    0,    0],\n",
       "       [   0,  463,   28,    3,    0],\n",
       "       [   2,    0, 1399,    2,    0],\n",
       "       [   0,    0,    9,  616,    0],\n",
       "       [   0,    0,    0,    0,  103]])"
      ]
     },
     "execution_count": 67,
     "metadata": {},
     "output_type": "execute_result"
    }
   ],
   "source": [
    "# compute the confusion matrix\n",
    "confusion_mtx_testing = confusion_matrix(y_mine_kmer_3, Y_pred_values)#_classes)\n",
    "#confusion_mtx = ConfusionMatrixDisplay(confusion_mtx, display_labels = [\"gamma\", \"delta\", \"beta\", \"alpha\", \"omicron\"])\n",
    "\n",
    "confusion_mtx_testing"
   ]
  },
  {
   "cell_type": "code",
   "execution_count": 68,
   "id": "f265d900",
   "metadata": {},
   "outputs": [
    {
     "data": {
      "image/png": "[encoded data removed]",
      "text/plain": [
       "<Figure size 576x576 with 2 Axes>"
      ]
     },
     "metadata": {
      "needs_background": "light"
     },
     "output_type": "display_data"
    }
   ],
   "source": [
    "# plot the confusion matrix\n",
    "f,ax = plt.subplots(figsize=(8, 8))\n",
    "sns.heatmap(confusion_mtx_testing, annot=True, \n",
    "            xticklabels=[\"gamma\",\"delta\",\"beta\",\"alpha\",\"omicron\"], \n",
    "            yticklabels=[\"gamma\",\"delta\",\"beta\",\"alpha\",\"omicron\"],\n",
    "            linewidths=0.01,\n",
    "            cmap=\"Greens\",\n",
    "            linecolor=\"gray\", fmt= '.1f',ax=ax)\n",
    "            \n",
    "plt.xlabel(\"Predicted Label\")\n",
    "plt.ylabel(\"True Label\")\n",
    "plt.title(\"Confusion Matrix\")\n",
    "plt.savefig(\"confusion.png\")\n",
    "\n",
    "#gamma\" : 0, \"delta\" : 1, \"beta\" : 2, \"alpha\" : 3, \"omicron\":4"
   ]
  },
  {
   "cell_type": "code",
   "execution_count": 69,
   "id": "6c27354e",
   "metadata": {},
   "outputs": [
    {
     "name": "stdout",
     "output_type": "stream",
     "text": [
      "[[ 432    0    5    0    0]\n",
      " [   0  463   28    3    0]\n",
      " [   2    0 1399    2    0]\n",
      " [   0    0    9  616    0]\n",
      " [   0    0    0    0  103]]\n"
     ]
    }
   ],
   "source": [
    "print(confusion_mtx_testing)"
   ]
  },
  {
   "cell_type": "code",
   "execution_count": null,
   "id": "02d235f5",
   "metadata": {},
   "outputs": [],
   "source": []
  },
  {
   "cell_type": "code",
   "execution_count": 42,
   "id": "63600ad9",
   "metadata": {},
   "outputs": [
    {
     "name": "stdout",
     "output_type": "stream",
     "text": [
      "              precision    recall  f1-score   support\n",
      "\n",
      "           0       1.00      0.99      0.99       437\n",
      "           1       1.00      0.94      0.97       494\n",
      "           2       0.97      1.00      0.98      1403\n",
      "           3       0.99      0.99      0.99       625\n",
      "           4       1.00      1.00      1.00       103\n",
      "\n",
      "    accuracy                           0.98      3062\n",
      "   macro avg       0.99      0.98      0.99      3062\n",
      "weighted avg       0.98      0.98      0.98      3062\n",
      "\n"
     ]
    }
   ],
   "source": [
    "cmx = confusion_matrix(y_mine_kmer_3, Y_pred_values, normalize='all')\n",
    "\n",
    "print(classification_report(y_mine_kmer_3, Y_pred_values))"
   ]
  },
  {
   "cell_type": "code",
   "execution_count": null,
   "id": "e949c811",
   "metadata": {},
   "outputs": [],
   "source": []
  }
 ],
 "metadata": {
  "kernelspec": {
   "display_name": "Python 3 (ipykernel)",
   "language": "python",
   "name": "python3"
  },
  "language_info": {
   "codemirror_mode": {
    "name": "ipython",
    "version": 3
   },
   "file_extension": ".py",
   "mimetype": "text/x-python",
   "name": "python",
   "nbconvert_exporter": "python",
   "pygments_lexer": "ipython3",
   "version": "3.9.7"
  }
 },
 "nbformat": 4,
 "nbformat_minor": 5
}
