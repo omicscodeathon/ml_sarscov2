{
 "cells": [
  {
   "cell_type": "markdown",
   "metadata": {},
   "source": [
    "## Machine Learning approach for classification of SARS-CoV-2 variants\n",
    "\n",
    "#Trying another tutorial using this [approach](https://www.kaggle.com/zakarii/dna-sequence-classification-cnn-gru)"
   ]
  },
  {
   "cell_type": "markdown",
   "metadata": {},
   "source": [
    "Import and Load libraries"
   ]
  },
  {
   "cell_type": "code",
   "execution_count": 2,
   "metadata": {},
   "outputs": [],
   "source": [
    "import pandas as pd\n",
    "import numpy as np\n",
    "import os\n",
    "\n",
    "import joblib\n",
    "\n",
    "from keras import utils as np_utils\n",
    "from sklearn.model_selection import train_test_split, GridSearchCV\n",
    "from keras.models import Sequential\n",
    "from keras.layers import Dense, Dropout, Flatten, Conv1D, MaxPooling1D, MaxPooling2D, Conv2D, LSTM, GRU, Bidirectional\n",
    "from keras import regularizers\n",
    "from keras.callbacks import EarlyStopping, ModelCheckpoint\n",
    "from keras.wrappers.scikit_learn import KerasClassifier\n",
    "import keras\n",
    "\n",
    "from keras import utils as np_utils\n",
    "\n",
    "from sklearn.preprocessing import LabelEncoder\n",
    "from sklearn.preprocessing import LabelBinarizer\n",
    "from numpy import array"
   ]
  },
  {
   "cell_type": "markdown",
   "metadata": {},
   "source": [
    "### **Data Pre-processing** \n",
    "Download dataset from this [link](https://drive.google.com/file/d/1BnxovEnbwflFGKKLHomOx4RFQUdDKG55/view?usp=sharing)"
   ]
  },
  {
   "cell_type": "code",
   "execution_count": 3,
   "metadata": {},
   "outputs": [],
   "source": [
    "dataset_1 = pd.read_table(\"../data/variants.aln4.fas.txt\", usecols=[1,2] ) #initial dataset with 86 sequneces\n",
    "dataset_2 = '../data/sequences.aln.fas' # huge dataset with 26k sequences"
   ]
  },
  {
   "cell_type": "code",
   "execution_count": 4,
   "metadata": {},
   "outputs": [],
   "source": [
    "#Converting sequence data into data frame\n",
    "#Ensure the fasta sequences are in one-liner and not blocks\n",
    "#The sequence file had been pre-processed to include varinat names in the sequnce headers. Check file in fasta format.\n",
    "\n",
    "inputfile = dataset_2\n",
    "\n",
    "lines = []\n",
    "header = []\n",
    "with open (inputfile, 'r') as fasta_file:\n",
    "    \n",
    "    for line in fasta_file:\n",
    "        if line.startswith(\">\"):\n",
    "            #extract fasta headers\n",
    "            lines.append(line.replace('\\w', '').replace(\">\", \"\").replace(\"\\n\", ''))\n",
    "            \n",
    "        next\n",
    "            #extract sequence lines\n",
    "        if not line.startswith(\">\"):\n",
    "            header.append(line.replace(\"\\n\",''))\n",
    "\n",
    "#Create dictionary of header and sequences and create a datafram\n",
    "data = {lines[i]:header[i] for i in range(len(header))}\n",
    "data = pd.DataFrame(list(data.items()),columns = ['Seq_ID','sequence']) \n",
    "\n",
    "\n",
    "data[\"sequence\"] = data[\"sequence\"].str.upper() #ensure the sequence is un uppercase. Important for encoding\n",
    "\n",
    "data[\"Variant_Id\"] = data[\"Seq_ID\"].apply(lambda i: i.split('/')[0]) #extracting variant names from sequnce file\n",
    "\n",
    "data = data.drop(\"Seq_ID\", axis=1)\n",
    "\n",
    "dataset_1[\"sequence\"] = dataset_1['sequence'].str.upper() \n",
    "\n",
    "dataset_2 = data\n",
    "\n",
    "dataset = [dataset_1, dataset_2]"
   ]
  },
  {
   "cell_type": "markdown",
   "metadata": {},
   "source": [
    "### Assign variant name to numerical form\n",
    "\n",
    "gamma - 0 \\\n",
    "delta - 1 \\\n",
    "beta - 2 \\\n",
    "alpha - 3 \\\n",
    "omicron - 4"
   ]
  },
  {
   "cell_type": "code",
   "execution_count": 5,
   "metadata": {},
   "outputs": [
    {
     "data": {
      "text/html": [
       "<div>\n",
       "<style scoped>\n",
       "    .dataframe tbody tr th:only-of-type {\n",
       "        vertical-align: middle;\n",
       "    }\n",
       "\n",
       "    .dataframe tbody tr th {\n",
       "        vertical-align: top;\n",
       "    }\n",
       "\n",
       "    .dataframe thead th {\n",
       "        text-align: right;\n",
       "    }\n",
       "</style>\n",
       "<table border=\"1\" class=\"dataframe\">\n",
       "  <thead>\n",
       "    <tr style=\"text-align: right;\">\n",
       "      <th></th>\n",
       "      <th>sequence</th>\n",
       "      <th>Variant_Id</th>\n",
       "    </tr>\n",
       "  </thead>\n",
       "  <tbody>\n",
       "    <tr>\n",
       "      <th>0</th>\n",
       "      <td>ATGTTTGTTTTTCTTGTTTTATTGCCACTAGTCTCTAGTCAGTGTG...</td>\n",
       "      <td>0</td>\n",
       "    </tr>\n",
       "    <tr>\n",
       "      <th>1</th>\n",
       "      <td>ATGTTTGTTTTTCTTGTTTTATTGCCACTAGTCTCTAGTCAGTGTG...</td>\n",
       "      <td>0</td>\n",
       "    </tr>\n",
       "    <tr>\n",
       "      <th>2</th>\n",
       "      <td>ATGTTTGTTTTTCTTGTTTTATTGCCACTAGTCTCTAGTCAGTGTG...</td>\n",
       "      <td>0</td>\n",
       "    </tr>\n",
       "    <tr>\n",
       "      <th>3</th>\n",
       "      <td>ATGTTTGTTTTTCTTGTTTTATTGCCACTAGTCTCTAGTCAGTGTG...</td>\n",
       "      <td>0</td>\n",
       "    </tr>\n",
       "    <tr>\n",
       "      <th>4</th>\n",
       "      <td>ATGTTTGTTTTTCTTGTTTTATTGCCACTAGTCTCTAGTCAGTGTG...</td>\n",
       "      <td>0</td>\n",
       "    </tr>\n",
       "  </tbody>\n",
       "</table>\n",
       "</div>"
      ],
      "text/plain": [
       "                                            sequence  Variant_Id\n",
       "0  ATGTTTGTTTTTCTTGTTTTATTGCCACTAGTCTCTAGTCAGTGTG...           0\n",
       "1  ATGTTTGTTTTTCTTGTTTTATTGCCACTAGTCTCTAGTCAGTGTG...           0\n",
       "2  ATGTTTGTTTTTCTTGTTTTATTGCCACTAGTCTCTAGTCAGTGTG...           0\n",
       "3  ATGTTTGTTTTTCTTGTTTTATTGCCACTAGTCTCTAGTCAGTGTG...           0\n",
       "4  ATGTTTGTTTTTCTTGTTTTATTGCCACTAGTCTCTAGTCAGTGTG...           0"
      ]
     },
     "execution_count": 5,
     "metadata": {},
     "output_type": "execute_result"
    }
   ],
   "source": [
    "\n",
    "def variant_annotation(dataset):\n",
    "    variant = {\"gamma\" : 0, \"delta\" : 1, \"beta\" : 2, \"alpha\" : 3, \"omicron\":4}\n",
    "\n",
    "    for seq_data in dataset:\n",
    "        seq_data[\"Variant_Id\"] = seq_data[\"Variant_Id\"].map(variant)\n",
    "    return dataset\n",
    "\n",
    "variant_annotation(dataset)\n",
    "\n",
    "dataset_1.head()"
   ]
  },
  {
   "cell_type": "code",
   "execution_count": 6,
   "metadata": {},
   "outputs": [],
   "source": [
    "\n",
    "\n",
    "def encode_seq(seq_data):\n",
    "    \"\"\"\n",
    "    Function to convert nucleotides to binary form and hot-encoded\n",
    "\n",
    "    Arguments :\n",
    "    seq_data = sequence dataframe with \"sequence\" and \"Variant_ID\" columns\n",
    "\n",
    "    char : total number of unique characters in the whole dataset. This is used to \n",
    "    bin : array list of zeros corresponding to the number of characters\n",
    "\n",
    "    \"\"\"\n",
    "\n",
    "    ntds = []\n",
    "    for i in seq_data['sequence']:\n",
    "        for seq in i:\n",
    "            ntd = seq.strip()\n",
    "            ntds.append(ntd.upper())\n",
    "        \n",
    "    char = list(set(ntds))\n",
    "    \n",
    "    bin = [0] * len(char)\n",
    "    bin0  = [0] * len(char)\n",
    "    bin1  = [0] * len(char)\n",
    "    bin2  = [0] * len(char)\n",
    "    bin3  = [0] * len(char)\n",
    "    \n",
    "    #Create a dictionary of arrays to the seqeunce characters\n",
    "    Encode = {}\n",
    "\n",
    "    for i in char:\n",
    "        if i == 'A':\n",
    "            bin0[0] = 1\n",
    "            Encode[i] = bin0\n",
    "        elif i == 'C':\n",
    "            bin1[1] = 1\n",
    "            Encode[i] = bin1\n",
    "        elif i == 'G':\n",
    "            bin2[2] = 1\n",
    "            Encode[i] = bin2\n",
    "        elif i == 'T':\n",
    "            bin3[3] = 1\n",
    "            Encode[i] = bin3\n",
    "        else:\n",
    "            Encode[i] = bin\n",
    "    \n",
    "      #convert the sequence characters to encoded form and append to the list\n",
    "\n",
    "    encoded_list = []\n",
    "\n",
    "    for seq in seq_data[\"sequence\"]:\n",
    "        encoded_list.append([Encode[x] for x in seq])\n",
    "\n",
    "    return encoded_list"
   ]
  },
  {
   "cell_type": "markdown",
   "metadata": {},
   "source": [
    "### **Convert sequence to binary form (Non-kmerized)**"
   ]
  },
  {
   "cell_type": "code",
   "execution_count": 8,
   "metadata": {},
   "outputs": [],
   "source": [
    "#RUn the function to encode the sequence dataset. Create an array of the binary in numpy form\n",
    "Encoded_dataset_1 = encode_seq(dataset_1)\n",
    "X_mine_data1 = np.array(Encoded_dataset_1)\n",
    "X_mine_data1.shape\n",
    "\n",
    "y_mine = dataset_1[\"Variant_Id\"]"
   ]
  },
  {
   "cell_type": "code",
   "execution_count": 9,
   "metadata": {},
   "outputs": [
    {
     "data": {
      "text/plain": [
       "(26037, 3874, 13)"
      ]
     },
     "execution_count": 9,
     "metadata": {},
     "output_type": "execute_result"
    }
   ],
   "source": [
    "#Encoded_dataset_2 = encode_seq(dataset_2)\n",
    "#X_mine_data2 = np.array(Encoded_dataset_2)\n",
    "#X_mine_data2.shape"
   ]
  },
  {
   "cell_type": "code",
   "execution_count": 12,
   "metadata": {},
   "outputs": [
    {
     "data": {
      "text/plain": [
       "[0, 0, 0, 1, 0, 0, 0, 0, 0, 0, 0, 0, 0]"
      ]
     },
     "execution_count": 12,
     "metadata": {},
     "output_type": "execute_result"
    }
   ],
   "source": [
    "#Encoded_dataset_2[1][1]"
   ]
  },
  {
   "cell_type": "markdown",
   "metadata": {},
   "source": [
    "## **Performing K-Merization**\n",
    "This is with the purpose of testing whether k-merization improves performance of the model."
   ]
  },
  {
   "cell_type": "code",
   "execution_count": 9,
   "metadata": {},
   "outputs": [],
   "source": [
    "#Get a copy of the dataset\n",
    "\n",
    "dataset_1_k = dataset_1.copy()\n",
    "dataset_2_k = dataset_2.copy()\n",
    "\n",
    "kmer_data = [dataset_1_k, dataset_2_k]"
   ]
  },
  {
   "cell_type": "code",
   "execution_count": 10,
   "metadata": {},
   "outputs": [],
   "source": [
    "\n",
    "def getKmers(sequence, size=4):\n",
    "    \"\"\"\"\n",
    "    function to convert sequence strings into k-mer words, default size = 4 (hexamer words)\n",
    "\n",
    "    Arguments:\n",
    "    sequence = sequnce set \n",
    "    size = size of kmers \n",
    "    \"\"\"\n",
    "    return [sequence[x:x+size].upper() for x in range(len(sequence) - size + 1)]\n",
    "\n",
    "for seq_data in kmer_data:\n",
    "    seq_data['sequence'] = seq_data.apply(lambda x: getKmers(x['sequence']), axis=1)"
   ]
  },
  {
   "cell_type": "code",
   "execution_count": 28,
   "metadata": {},
   "outputs": [
    {
     "data": {
      "text/html": [
       "<div>\n",
       "<style scoped>\n",
       "    .dataframe tbody tr th:only-of-type {\n",
       "        vertical-align: middle;\n",
       "    }\n",
       "\n",
       "    .dataframe tbody tr th {\n",
       "        vertical-align: top;\n",
       "    }\n",
       "\n",
       "    .dataframe thead th {\n",
       "        text-align: right;\n",
       "    }\n",
       "</style>\n",
       "<table border=\"1\" class=\"dataframe\">\n",
       "  <thead>\n",
       "    <tr style=\"text-align: right;\">\n",
       "      <th></th>\n",
       "      <th>sequence</th>\n",
       "      <th>Variant_Id</th>\n",
       "    </tr>\n",
       "  </thead>\n",
       "  <tbody>\n",
       "    <tr>\n",
       "      <th>0</th>\n",
       "      <td>[ATGT, TGTT, GTTT, TTTG, TTGT, TGTT, GTTT, TTT...</td>\n",
       "      <td>0</td>\n",
       "    </tr>\n",
       "    <tr>\n",
       "      <th>1</th>\n",
       "      <td>[ATGT, TGTT, GTTT, TTTG, TTGT, TGTT, GTTT, TTT...</td>\n",
       "      <td>0</td>\n",
       "    </tr>\n",
       "    <tr>\n",
       "      <th>2</th>\n",
       "      <td>[ATGT, TGTT, GTTT, TTTG, TTGT, TGTT, GTTT, TTT...</td>\n",
       "      <td>0</td>\n",
       "    </tr>\n",
       "    <tr>\n",
       "      <th>3</th>\n",
       "      <td>[ATGT, TGTT, GTTT, TTTG, TTGT, TGTT, GTTT, TTT...</td>\n",
       "      <td>0</td>\n",
       "    </tr>\n",
       "    <tr>\n",
       "      <th>4</th>\n",
       "      <td>[ATGT, TGTT, GTTT, TTTG, TTGT, TGTT, GTTT, TTT...</td>\n",
       "      <td>0</td>\n",
       "    </tr>\n",
       "  </tbody>\n",
       "</table>\n",
       "</div>"
      ],
      "text/plain": [
       "                                            sequence  Variant_Id\n",
       "0  [ATGT, TGTT, GTTT, TTTG, TTGT, TGTT, GTTT, TTT...           0\n",
       "1  [ATGT, TGTT, GTTT, TTTG, TTGT, TGTT, GTTT, TTT...           0\n",
       "2  [ATGT, TGTT, GTTT, TTTG, TTGT, TGTT, GTTT, TTT...           0\n",
       "3  [ATGT, TGTT, GTTT, TTTG, TTGT, TGTT, GTTT, TTT...           0\n",
       "4  [ATGT, TGTT, GTTT, TTTG, TTGT, TGTT, GTTT, TTT...           0"
      ]
     },
     "execution_count": 28,
     "metadata": {},
     "output_type": "execute_result"
    }
   ],
   "source": [
    "dataset_1_k.head()"
   ]
  },
  {
   "cell_type": "code",
   "execution_count": 11,
   "metadata": {},
   "outputs": [
    {
     "data": {
      "text/plain": [
       "(86, 3828, 303)"
      ]
     },
     "execution_count": 11,
     "metadata": {},
     "output_type": "execute_result"
    }
   ],
   "source": [
    "#binary encode kmerized dataset \n",
    "encoded = encode_seq(dataset_1_k)\n",
    "X_mine_data_kmer_1 = np.array(encoded)\n",
    "X_mine_data_kmer_1.shape"
   ]
  },
  {
   "cell_type": "code",
   "execution_count": 55,
   "metadata": {},
   "outputs": [],
   "source": [
    "#enc2 = encode_seq(dataset_2_k)\n",
    "#X_mine_data_kmer_2 = np.array(enc2)\n",
    "#X_mine_data_kmer_2.shape"
   ]
  },
  {
   "cell_type": "code",
   "execution_count": 12,
   "metadata": {},
   "outputs": [
    {
     "data": {
      "text/plain": [
       "(86,)"
      ]
     },
     "execution_count": 12,
     "metadata": {},
     "output_type": "execute_result"
    }
   ],
   "source": [
    "y_mine_kmer_1 = dataset_1_k['Variant_Id']\n",
    "y_mine_kmer_1.shape"
   ]
  },
  {
   "cell_type": "markdown",
   "metadata": {},
   "source": [
    "## **Model Fitting**\n",
    "### Split dataset into training and validation\n",
    "Use data specific to each variable above."
   ]
  },
  {
   "cell_type": "code",
   "execution_count": 16,
   "metadata": {},
   "outputs": [],
   "source": [
    "#Split dataset into training and validation\n",
    "X_train, X_test, y_train, y_test = train_test_split(X_mine_data_kmer_1, y_mine_kmer_1, random_state = 42, stratify = y_mine_kmer_1)\n",
    "\n",
    "#have the data in tensor-readable form. I also don't know what that means.\n",
    "y_train = keras.utils.np_utils.to_categorical(y_train)\n",
    "y_test = keras.utils.np_utils.to_categorical(y_test)"
   ]
  },
  {
   "cell_type": "markdown",
   "metadata": {},
   "source": [
    "**!Ensure you change the input_shape suitable for the data you running**"
   ]
  },
  {
   "cell_type": "code",
   "execution_count": 14,
   "metadata": {},
   "outputs": [
    {
     "name": "stderr",
     "output_type": "stream",
     "text": [
      "2022-04-13 15:39:49.224785: I tensorflow/core/platform/cpu_feature_guard.cc:151] This TensorFlow binary is optimized with oneAPI Deep Neural Network Library (oneDNN) to use the following CPU instructions in performance-critical operations:  AVX2 FMA\n",
      "To enable them in other operations, rebuild TensorFlow with the appropriate compiler flags.\n"
     ]
    }
   ],
   "source": [
    "#Model parameter setting\n",
    "\n",
    "params = {\n",
    "    'first_node': [128, 64],\n",
    "    'second_node': [32, 64],\n",
    "    'alpha': [0.001, 0.01],\n",
    "    'first_filter': [9, 16, 32], \n",
    "    'dropout': [0.1, 0.2, 0.5]\n",
    "}\n",
    "\n",
    "gru_model = Sequential()\n",
    "\n",
    "#Layer 1 - feature extraction\n",
    "#Performs dimension reduction\n",
    "\n",
    "gru_model.add(Conv1D(filters = 27, kernel_size = (4), activation = 'relu', input_shape = X_mine_data_kmer_1.shape[1:])) #ensure you change the shape\n",
    "gru_model.add(MaxPooling1D(pool_size= (3)))\n",
    "gru_model.add(Dropout(0.2))\n",
    "gru_model.add(Conv1D(filters = 14, kernel_size = (2), activation = 'relu', padding = 'same'))\n",
    "\n",
    "\n",
    "gru_model.add(Bidirectional(GRU(128, activation = 'relu')))\n",
    "gru_model.add(Dropout(0.2))\n",
    "gru_model.add(Dense(128, activation = 'relu'))\n",
    "gru_model.add(Dense(64, activation = 'relu'))\n",
    "gru_model.add(Dense(64, activation = 'relu'))\n",
    "gru_model.add(Dense(16, activation = 'relu', kernel_regularizer = regularizers.l2(0.01)))\n",
    "gru_model.add(Dense(5, activation = 'softmax'))\n",
    "\n",
    "gru_model.add(Flatten())\n",
    "\n",
    "gru_model.compile(loss='binary_crossentropy',\n",
    "              optimizer='adam',\n",
    "              metrics=['accuracy'])"
   ]
  },
  {
   "cell_type": "code",
   "execution_count": 62,
   "metadata": {},
   "outputs": [
    {
     "name": "stdout",
     "output_type": "stream",
     "text": [
      "Model: \"sequential\"\n",
      "_________________________________________________________________\n",
      " Layer (type)                Output Shape              Param #   \n",
      "=================================================================\n",
      " conv1d (Conv1D)             (None, 3825, 27)          32751     \n",
      "                                                                 \n",
      " max_pooling1d (MaxPooling1D  (None, 1275, 27)         0         \n",
      " )                                                               \n",
      "                                                                 \n",
      " dropout (Dropout)           (None, 1275, 27)          0         \n",
      "                                                                 \n",
      " conv1d_1 (Conv1D)           (None, 1275, 14)          770       \n",
      "                                                                 \n",
      " bidirectional (Bidirectiona  (None, 256)              110592    \n",
      " l)                                                              \n",
      "                                                                 \n",
      " dropout_1 (Dropout)         (None, 256)               0         \n",
      "                                                                 \n",
      " dense (Dense)               (None, 128)               32896     \n",
      "                                                                 \n",
      " dense_1 (Dense)             (None, 64)                8256      \n",
      "                                                                 \n",
      " dense_2 (Dense)             (None, 64)                4160      \n",
      "                                                                 \n",
      " dense_3 (Dense)             (None, 16)                1040      \n",
      "                                                                 \n",
      " dense_4 (Dense)             (None, 5)                 85        \n",
      "                                                                 \n",
      " flatten (Flatten)           (None, 5)                 0         \n",
      "                                                                 \n",
      "=================================================================\n",
      "Total params: 190,550\n",
      "Trainable params: 190,550\n",
      "Non-trainable params: 0\n",
      "_________________________________________________________________\n"
     ]
    }
   ],
   "source": [
    "gru_model.summary()"
   ]
  },
  {
   "cell_type": "code",
   "execution_count": 15,
   "metadata": {},
   "outputs": [
    {
     "name": "stdout",
     "output_type": "stream",
     "text": [
      "Epoch 1/10\n",
      "1/1 [==============================] - 24s 24s/step - loss: 3.0017 - accuracy: 0.2188 - val_loss: 3.0697 - val_accuracy: 0.2273\n",
      "Epoch 2/10\n",
      "1/1 [==============================] - 12s 12s/step - loss: 2.9988 - accuracy: 0.2188 - val_loss: 3.0669 - val_accuracy: 0.2273\n",
      "Epoch 3/10\n",
      "1/1 [==============================] - 11s 11s/step - loss: 2.9960 - accuracy: 0.2188 - val_loss: 3.0641 - val_accuracy: 0.2273\n",
      "Epoch 4/10\n",
      "1/1 [==============================] - 11s 11s/step - loss: 2.9932 - accuracy: 0.2188 - val_loss: 3.0613 - val_accuracy: 0.2273\n",
      "Epoch 5/10\n",
      "1/1 [==============================] - 9s 9s/step - loss: 2.9904 - accuracy: 0.2188 - val_loss: 3.0585 - val_accuracy: 0.2273\n",
      "Epoch 6/10\n",
      "1/1 [==============================] - 9s 9s/step - loss: 2.9876 - accuracy: 0.2188 - val_loss: 3.0558 - val_accuracy: 0.2273\n",
      "Epoch 7/10\n",
      "1/1 [==============================] - 16s 16s/step - loss: 2.9849 - accuracy: 0.2188 - val_loss: 3.0531 - val_accuracy: 0.2273\n",
      "Epoch 8/10\n",
      "1/1 [==============================] - 12s 12s/step - loss: 2.9822 - accuracy: 0.2188 - val_loss: 3.0504 - val_accuracy: 0.2273\n",
      "Epoch 9/10\n",
      "1/1 [==============================] - 11s 11s/step - loss: 2.9795 - accuracy: 0.2188 - val_loss: 3.0477 - val_accuracy: 0.2273\n",
      "Epoch 10/10\n",
      "1/1 [==============================] - 7s 7s/step - loss: 2.9768 - accuracy: 0.2188 - val_loss: 3.0451 - val_accuracy: 0.2273\n"
     ]
    }
   ],
   "source": [
    "early_stop = keras.callbacks.EarlyStopping(monitor = 'val_accuracy', min_delta = 0.0005, patience=8, \n",
    "                                           restore_best_weights=True )\n",
    "history = gru_model.fit(X_train, y_train, batch_size = 128, validation_data=(X_test, y_test), \n",
    "                        epochs=10)"
   ]
  },
  {
   "cell_type": "code",
   "execution_count": 17,
   "metadata": {},
   "outputs": [
    {
     "data": {
      "image/png": "[encoded data removed]",
      "text/plain": [
       "<Figure size 432x288 with 1 Axes>"
      ]
     },
     "metadata": {
      "needs_background": "light"
     },
     "output_type": "display_data"
    }
   ],
   "source": [
    "# Plot the loss and accuracy curves for training and validation \n",
    "\n",
    "import matplotlib.pyplot as plt\n",
    "plt.plot(history.history['val_loss'], color='b', label=\"validation loss\")\n",
    "plt.title(\"Test Loss\")\n",
    "plt.xlabel(\"Number of Epochs\")\n",
    "plt.ylabel(\"Loss\")\n",
    "plt.legend()\n",
    "plt.show()"
   ]
  },
  {
   "cell_type": "markdown",
   "metadata": {},
   "source": [
    "### **Model Validation**"
   ]
  },
  {
   "cell_type": "code",
   "execution_count": 18,
   "metadata": {},
   "outputs": [
    {
     "data": {
      "image/png": "[encoded data removed]",
      "text/plain": [
       "<Figure size 576x576 with 2 Axes>"
      ]
     },
     "metadata": {
      "needs_background": "light"
     },
     "output_type": "display_data"
    }
   ],
   "source": [
    "# confusion matrix\n",
    "import seaborn as sns\n",
    "from sklearn.metrics import confusion_matrix\n",
    "\n",
    "# Predict the values from the validation dataset\n",
    "Y_pred = gru_model.predict(X_test)\n",
    "# Convert predictions classes to one hot vectors \n",
    "Y_pred_classes = np.argmax(y_test,axis = 1) \n",
    "# Convert validation observations to one hot vectors\n",
    "Y_true = np.argmax(y_test,axis = 1) \n",
    "# compute the confusion matrix\n",
    "confusion_mtx = confusion_matrix(Y_true, Y_pred_classes) \n",
    "# plot the confusion matrix\n",
    "f,ax = plt.subplots(figsize=(8, 8))\n",
    "sns.heatmap(confusion_mtx, annot=True, linewidths=0.01,cmap=\"Greens\",linecolor=\"gray\", fmt= '.1f',ax=ax)\n",
    "plt.xlabel(\"Predicted Label\")\n",
    "plt.ylabel(\"True Label\")\n",
    "plt.title(\"Confusion Matrix\")\n",
    "plt.show()"
   ]
  },
  {
   "cell_type": "code",
   "execution_count": null,
   "metadata": {},
   "outputs": [],
   "source": []
  }
 ],
 "metadata": {
  "interpreter": {
   "hash": "56a809d0c86f497c20eab61703652ae929408ff2da473ec1f322bfdc6def957d"
  },
  "kernelspec": {
   "display_name": "Python 3.9.5 ('base')",
   "language": "python",
   "name": "python3"
  },
  "language_info": {
   "codemirror_mode": {
    "name": "ipython",
    "version": 3
   },
   "file_extension": ".py",
   "mimetype": "text/x-python",
   "name": "python",
   "nbconvert_exporter": "python",
   "pygments_lexer": "ipython3",
   "version": "3.9.5"
  },
  "orig_nbformat": 4
 },
 "nbformat": 4,
 "nbformat_minor": 2
}
